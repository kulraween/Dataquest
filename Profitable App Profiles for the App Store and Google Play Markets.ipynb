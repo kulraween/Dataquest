{
 "metadata": {
  "language_info": {
   "codemirror_mode": {
    "name": "ipython",
    "version": 3
   },
   "file_extension": ".py",
   "mimetype": "text/x-python",
   "name": "python",
   "nbconvert_exporter": "python",
   "pygments_lexer": "ipython3",
   "version": "3.8.5-final"
  },
  "orig_nbformat": 2,
  "kernelspec": {
   "name": "python3",
   "display_name": "Python 3",
   "language": "python"
  }
 },
 "nbformat": 4,
 "nbformat_minor": 2,
 "cells": [
  {
   "source": [
    "# Profitable App Profiles for the App Store and Google Play Markets\n",
    "\n",
    "***\n",
    "This is a guided-project under Dataquest's curriculum.\n",
    "***\n",
    "\n",
    "The company builds free-to-download Android and iOS mobile apps for English speakers. Main source of revenue is in-app ads. The more users, the higher probability that the ads are engaged, and hence higher revenue. This project is to analyze the profitable apps profile in App Store and Google Play markets. \n",
    "\n",
    "The goal of this project is to analyze data in order to understand what type of apps are likely to attract users, and could therefore generate higher revenue.\n"
   ],
   "cell_type": "markdown",
   "metadata": {}
  },
  {
   "source": [
    "# Step 1 - Data preparation\n",
    "## Step 1a - Import data\n",
    "\n",
    "There are over 4 million apps combined in both stores. Here we use sample data set for the analysis.\n",
    "\n",
    "* iOS data is obtained from <a href=\"https://www.kaggle.com/ramamet4/app-store-apple-data-set-10k-apps\">here</a>.\n",
    "* Android data is obtained from <a href=\"https://www.kaggle.com/lava18/google-play-store-apps\">here</a>."
   ],
   "cell_type": "markdown",
   "metadata": {}
  },
  {
   "cell_type": "code",
   "execution_count": 2,
   "metadata": {},
   "outputs": [],
   "source": [
    "from csv import reader\n",
    "\n",
    "#### iOS dataset ####\n",
    "ios_file = open(\"D:\\Documents\\Python Journey\\Dataquest\\Guided Project 1_Profitable apps\\AppleStore.csv\", encoding=\"utf8\")\n",
    "ios = list(reader(ios_file))\n",
    "ios_header = ios[0]\n",
    "ios_data = ios[1:]\n",
    "\n",
    "#### Android dataset ####\n",
    "android_file = open(\"D:\\Documents\\Python Journey\\Dataquest\\Guided Project 1_Profitable apps\\googleplaystore.csv\", encoding=\"utf8\")\n",
    "android = list(reader(android_file))\n",
    "android_header = android[0]\n",
    "android_data = android[1:]"
   ]
  },
  {
   "source": [
    "## Step 1b - Explore data"
   ],
   "cell_type": "markdown",
   "metadata": {}
  },
  {
   "cell_type": "code",
   "execution_count": 3,
   "metadata": {},
   "outputs": [],
   "source": [
    "# This function is to extract data in the file to a more readable format.\n",
    "def explore_data(dataset, start, end, rows_and_columns=False):\n",
    "    dataset_slice = dataset[start:end]\n",
    "    for row in dataset_slice:\n",
    "        print(row)\n",
    "        print(\"\\n\") # adds a new empty line between each row\n",
    "\n",
    "    if rows_and_columns:\n",
    "        print(\"Number of rows: \", len(dataset))\n",
    "        print(\"Number of columns: \", len(dataset[0]))"
   ]
  },
  {
   "cell_type": "code",
   "execution_count": 4,
   "metadata": {},
   "outputs": [
    {
     "output_type": "stream",
     "name": "stdout",
     "text": [
      "['id', 'track_name', 'size_bytes', 'currency', 'price', 'rating_count_tot', 'rating_count_ver', 'user_rating', 'user_rating_ver', 'ver', 'cont_rating', 'prime_genre', 'sup_devices.num', 'ipadSc_urls.num', 'lang.num', 'vpp_lic']\n\n\n['284882215', 'Facebook', '389879808', 'USD', '0.0', '2974676', '212', '3.5', '3.5', '95.0', '4+', 'Social Networking', '37', '1', '29', '1']\n\n\n['389801252', 'Instagram', '113954816', 'USD', '0.0', '2161558', '1289', '4.5', '4.0', '10.23', '12+', 'Photo & Video', '37', '0', '29', '1']\n\n\n['529479190', 'Clash of Clans', '116476928', 'USD', '0.0', '2130805', '579', '4.5', '4.5', '9.24.12', '9+', 'Games', '38', '5', '18', '1']\n\n\nNumber of rows:  7197\nNumber of columns:  16\n"
     ]
    }
   ],
   "source": [
    "# Exploring iOS dataset\n",
    "print(ios_header)\n",
    "print(\"\\n\")\n",
    "explore_data(ios_data, 0, 3, rows_and_columns=True)"
   ]
  },
  {
   "source": [
    "The columns that are interesting and could be used for the analysis are *track_name*, *price*, *rating_count_tot*, and *prime_genre*"
   ],
   "cell_type": "markdown",
   "metadata": {}
  },
  {
   "cell_type": "code",
   "execution_count": 5,
   "metadata": {},
   "outputs": [
    {
     "output_type": "stream",
     "name": "stdout",
     "text": [
      "['App', 'Category', 'Rating', 'Reviews', 'Size', 'Installs', 'Type', 'Price', 'Content Rating', 'Genres', 'Last Updated', 'Current Ver', 'Android Ver']\n\n\n['Photo Editor & Candy Camera & Grid & ScrapBook', 'ART_AND_DESIGN', '4.1', '159', '19M', '10,000+', 'Free', '0', 'Everyone', 'Art & Design', 'January 7, 2018', '1.0.0', '4.0.3 and up']\n\n\n['Coloring book moana', 'ART_AND_DESIGN', '3.9', '967', '14M', '500,000+', 'Free', '0', 'Everyone', 'Art & Design;Pretend Play', 'January 15, 2018', '2.0.0', '4.0.3 and up']\n\n\n['U Launcher Lite – FREE Live Cool Themes, Hide Apps', 'ART_AND_DESIGN', '4.7', '87510', '8.7M', '5,000,000+', 'Free', '0', 'Everyone', 'Art & Design', 'August 1, 2018', '1.2.4', '4.0.3 and up']\n\n\nNumber of rows:  10841\nNumber of columns:  13\n"
     ]
    }
   ],
   "source": [
    "# Exploring Android dataset\n",
    "print(android_header)\n",
    "print(\"\\n\")\n",
    "explore_data(android_data, 0, 3, True)"
   ]
  },
  {
   "source": [
    "The columns that are interesting and could be used for the analysis are *App*, *Category*, *Rating*, *Installs*, *Type*, *Price*, *Content Rating*, and *Genre*\n"
   ],
   "cell_type": "markdown",
   "metadata": {}
  },
  {
   "source": [
    "## Step 1c - Clean data\n",
    "- Detect inaccurate data, and correct or remove it.\n",
    "- Detect duplicate data, and remove the duplicates.\n",
    "\n",
    "Since the company is building free apps for English speakers, the following apps will be removed:\n",
    "- non-English apps\n",
    "- paid apps"
   ],
   "cell_type": "markdown",
   "metadata": {}
  },
  {
   "source": [
    "### Clean iOS dataset"
   ],
   "cell_type": "markdown",
   "metadata": {}
  },
  {
   "cell_type": "code",
   "execution_count": 7,
   "metadata": {
    "tags": []
   },
   "outputs": [
    {
     "output_type": "stream",
     "name": "stdout",
     "text": [
      "Check ended.\nEach rows contain all columns: True\n"
     ]
    }
   ],
   "source": [
    "# Check each row have the same number of columns\n",
    "ios_col_row = True\n",
    "\n",
    "while ios_col_row:\n",
    "    for row in ios_data:\n",
    "        if len(ios_header) != len(row):\n",
    "            print(row, \"\\n\")\n",
    "            print(\"Index of the row is \" + str(ios_data.index(row)))\n",
    "            ios_col_row = False\n",
    "    print(\"Check ended.\")\n",
    "    print(f\"Each rows contain all columns: {ios_col_row}\")\n",
    "    break"
   ]
  },
  {
   "cell_type": "code",
   "execution_count": 6,
   "metadata": {},
   "outputs": [
    {
     "output_type": "stream",
     "name": "stdout",
     "text": [
      "Number of unique apps: 7,197\n\nNumber of duplicate apps: 0\n\nExample of duplicate apps are: []\n"
     ]
    }
   ],
   "source": [
    "# Find duplicate rows\n",
    "ios_dup_apps = []\n",
    "ios_unique_apps = []\n",
    "\n",
    "for i in range(len(ios_data)):\n",
    "    ios_id = ios_data[i][0]\n",
    "    if ios_id in ios_unique_apps:\n",
    "        ios_dup_apps.append(ios_id)\n",
    "    else:\n",
    "        ios_unique_apps.append(ios_id)\n",
    "\n",
    "print(f\"Number of unique apps: {len(ios_unique_apps):,.0f}\")\n",
    "print()\n",
    "print(f\"Number of duplicate apps: {len(ios_dup_apps):,.0f}\")\n",
    "print()\n",
    "print(\"Example of duplicate apps are:\", sorted(ios_dup_apps[0:20]))\n",
    "\n",
    "assert len(ios_data) == len(ios_dup_apps) + len(ios_unique_apps)    # check if number of rows are matched"
   ]
  },
  {
   "source": [
    "### Prepare iOS data for the analysis\n",
    "To simplify the analysis, we assume that English speaking apps should not contain many non-English characters in the app names. If there are 3 or more non-English characters in the name, the app will be considered as a non-English app. We will then separate between free and paid apps among our English apps."
   ],
   "cell_type": "markdown",
   "metadata": {}
  },
  {
   "cell_type": "code",
   "execution_count": 7,
   "metadata": {},
   "outputs": [],
   "source": [
    "# This function is used to determine whether the app has a non-English name\n",
    "def eng_check(app):\n",
    "    non_eng = 0\n",
    "    eng = 0\n",
    "    for char in app:\n",
    "        if ord(char) > 127:\n",
    "            non_eng += 1\n",
    "        else:\n",
    "            eng += 1\n",
    "    if eng == 0 or non_eng >= 3:\n",
    "        return False\n",
    "    else:\n",
    "        return True    \n",
    "\n",
    "assert (eng_check(\"Instagram\")) == True\n",
    "assert (eng_check(\"爱奇艺PPS -《欢乐颂2》电视剧热播\")) == False\n",
    "assert (eng_check(\"Docs To Go™ Free Office Suite\")) == True\n",
    "assert (eng_check(\"Instachat 😜\")) == True\n",
    "assert (eng_check(\"豆瓣\")) == False"
   ]
  },
  {
   "cell_type": "code",
   "execution_count": 8,
   "metadata": {},
   "outputs": [
    {
     "output_type": "stream",
     "name": "stdout",
     "text": [
      "There are 6,149 apps with English names.\nExample: Facebook , Instagram , Clash of Clans , Temple Run\n\nThere are 1,048 apps with non-English names.\nExample: 爱奇艺PPS -《欢乐颂2》电视剧热播 , 聚力视频HD-人民的名义,跨界歌王全网热播 , 优酷视频 , 网易新闻 - 精选好内容，算出你的兴趣\n"
     ]
    }
   ],
   "source": [
    "# Separate English apps and non-English apps\n",
    "ios_eng_apps = []\n",
    "ios_noneng_apps = []\n",
    "\n",
    "for row in ios_data:\n",
    "    eng = eng_check(row[1])\n",
    "    if eng == True:\n",
    "        ios_eng_apps.append(row)\n",
    "    else:\n",
    "        ios_noneng_apps.append(row)\n",
    "\n",
    "assert len(ios_data) == len(ios_eng_apps) + len(ios_noneng_apps)\n",
    "\n",
    "print(f\"There are {len(ios_eng_apps):,.0f} apps with English names.\")\n",
    "print(\"Example:\", ios_eng_apps[0][1], \",\", ios_eng_apps[1][1], \",\", ios_eng_apps[2][1], \",\", ios_eng_apps[3][1])\n",
    "print()\n",
    "print(f\"There are {len(ios_noneng_apps):,.0f} apps with non-English names.\")\n",
    "print(\"Example:\", ios_noneng_apps[0][1], \",\", ios_noneng_apps[1][1], \",\", ios_noneng_apps[2][1], \",\", ios_noneng_apps[3][1])"
   ]
  },
  {
   "cell_type": "code",
   "execution_count": 9,
   "metadata": {},
   "outputs": [
    {
     "output_type": "stream",
     "name": "stdout",
     "text": [
      "{'0.0': 3198, '1.99': 610, '0.99': 636, '6.99': 165, '2.99': 669, '7.99': 30, '4.99': 373, '9.99': 75, '3.99': 265, '8.99': 8, '5.99': 43, '14.99': 15, '13.99': 6, '19.99': 13, '17.99': 3, '15.99': 4, '24.99': 8, '20.99': 1, '29.99': 6, '12.99': 1, '39.99': 2, '74.99': 1, '16.99': 2, '249.99': 1, '11.99': 3, '27.99': 1, '49.99': 2, '59.99': 3, '22.99': 1, '18.99': 1, '99.99': 1, '34.99': 1, '299.99': 1}\n"
     ]
    }
   ],
   "source": [
    "# Check price of apps\n",
    "ios_eng_apps_price_f = {}\n",
    "\n",
    "for row in ios_eng_apps:\n",
    "    ios_eng_apps_price_f.setdefault(row[4], 0)\n",
    "    ios_eng_apps_price_f[row[4]] += 1\n",
    "\n",
    "print(ios_eng_apps_price_f)"
   ]
  },
  {
   "source": [
    "From the result below, the price of free apps in iOS is labelled as \"0.0\". Hence, we will use \"0.0\" as a criterion to separate free apps and paid apps."
   ],
   "cell_type": "markdown",
   "metadata": {}
  },
  {
   "cell_type": "code",
   "execution_count": 10,
   "metadata": {},
   "outputs": [
    {
     "output_type": "stream",
     "name": "stdout",
     "text": [
      "There are 3,198 free apps with English names.\nExample: Facebook , Instagram , Clash of Clans , Temple Run\n\nThere are 2,951 paid apps with English names.\nExample: Fruit Ninja Classic , Clear Vision (17+) , Minecraft: Pocket Edition , Plants vs. Zombies\n"
     ]
    }
   ],
   "source": [
    "# Separate free and paid apps\n",
    "ios_eng_free_apps = []\n",
    "ios_eng_paid_apps = []\n",
    "\n",
    "for row in ios_eng_apps:\n",
    "    if row[4] == \"0.0\":\n",
    "        ios_eng_free_apps.append(row)\n",
    "    else:\n",
    "        ios_eng_paid_apps.append(row)\n",
    "\n",
    "assert len(ios_eng_apps) == len(ios_eng_free_apps) + len(ios_eng_paid_apps)\n",
    "\n",
    "print(f\"There are {len(ios_eng_free_apps):,.0f} free apps with English names.\")\n",
    "print(\"Example:\", ios_eng_free_apps[0][1], \",\", ios_eng_free_apps[1][1], \",\", ios_eng_free_apps[2][1], \",\", ios_eng_free_apps[3][1])\n",
    "print()\n",
    "print(f\"There are {len(ios_eng_paid_apps):,.0f} paid apps with English names.\")\n",
    "print(\"Example:\", ios_eng_paid_apps[0][1], \",\", ios_eng_paid_apps[1][1], \",\", ios_eng_paid_apps[2][1], \",\", ios_eng_paid_apps[3][1])"
   ]
  },
  {
   "source": [
    "### Clean Android dataset"
   ],
   "cell_type": "markdown",
   "metadata": {}
  },
  {
   "cell_type": "code",
   "execution_count": 11,
   "metadata": {},
   "outputs": [
    {
     "output_type": "stream",
     "name": "stdout",
     "text": [
      "['Life Made WI-Fi Touchscreen Photo Frame', '1.9', '19', '3.0M', '1,000+', 'Free', '0', 'Everyone', '', 'February 11, 2018', '1.0.19', '4.0 and up'] \n\nIndex of the row is 10472. There are 12 items in the row\n"
     ]
    }
   ],
   "source": [
    "# Check each row have the same number of columns\n",
    "android_col_row = True\n",
    "\n",
    "while android_col_row:\n",
    "    for row in android_data:\n",
    "        if len(android_header) != len(row):\n",
    "            print(row, \"\\n\")\n",
    "            print(\"Index of the row is \" + str(android_data.index(row)) + \".\", \"There are\", len(android_data[android_data.index(row)]), \"items in the row\")\n",
    "            android_col_row = False"
   ]
  },
  {
   "source": [
    "The 10472th row in `android_data` seems to be missing one column."
   ],
   "cell_type": "markdown",
   "metadata": {}
  },
  {
   "cell_type": "code",
   "execution_count": 12,
   "metadata": {},
   "outputs": [
    {
     "output_type": "stream",
     "name": "stdout",
     "text": [
      "['Life Made WI-Fi Touchscreen Photo Frame', '1.9', '19', '3.0M', '1,000+', 'Free', '0', 'Everyone', '', 'February 11, 2018', '1.0.19', '4.0 and up']\n\n['App', 'Category', 'Rating', 'Reviews', 'Size', 'Installs', 'Type', 'Price', 'Content Rating', 'Genres', 'Last Updated', 'Current Ver', 'Android Ver']\n"
     ]
    }
   ],
   "source": [
    "# Compare the incorrect row with header\n",
    "print(android_data[10472])\n",
    "print()\n",
    "print(android_header)"
   ]
  },
  {
   "source": [
    "The comparison above shows that the data for *Category* column is missing in line 10472. The *Category* is *1.9* and *Rating* is *19*, which are off. Hence, this row will be deleted."
   ],
   "cell_type": "markdown",
   "metadata": {}
  },
  {
   "cell_type": "code",
   "execution_count": 13,
   "metadata": {},
   "outputs": [
    {
     "output_type": "stream",
     "name": "stdout",
     "text": [
      "10841\n10840\n"
     ]
    }
   ],
   "source": [
    "print(len(android_data))    # number of rows before deletion\n",
    "del android_data[10472]     # row to delete\n",
    "print(len(android_data))    # number of rows after deletion"
   ]
  },
  {
   "cell_type": "code",
   "execution_count": 14,
   "metadata": {},
   "outputs": [
    {
     "output_type": "stream",
     "name": "stdout",
     "text": [
      "Number of unique apps: 9,659\n\nNumber of duplicate apps: 1,181\n\nExample of duplicate apps are: ['AdWords Express', 'Asana: organize team projects', 'Box', 'Box', 'Crew - Free Messaging and Scheduling', 'FreshBooks Classic', 'Google Ads', 'Google Analytics', 'Google My Business', 'Google My Business', 'HipChat - Chat Built for Teams', 'Insightly CRM', 'MailChimp - Email, Marketing Automation', 'Quick PDF Scanner + OCR FREE', 'QuickBooks Accounting: Invoicing & Expenses', 'Slack', 'Xero Accounting Software', 'ZOOM Cloud Meetings', 'Zenefits', 'join.me - Simple Meetings']\n"
     ]
    }
   ],
   "source": [
    "# Find duplicate rows\n",
    "android_dup_apps = []\n",
    "android_unique_apps = []\n",
    "\n",
    "for i in range(len(android_data)):\n",
    "    name = android_data[i][0]\n",
    "    if name in android_unique_apps:\n",
    "        android_dup_apps.append(name)\n",
    "    else:\n",
    "        android_unique_apps.append(name)\n",
    "\n",
    "print(f\"Number of unique apps: {len(android_unique_apps):,.0f}\")\n",
    "print()\n",
    "print(f\"Number of duplicate apps: {len(android_dup_apps):,.0f}\")\n",
    "print()\n",
    "print(\"Example of duplicate apps are:\", sorted(android_dup_apps[0:20]))\n",
    "\n",
    "assert len(android_data) == len(android_dup_apps) + len(android_unique_apps)    # check if number of rows are matched"
   ]
  },
  {
   "cell_type": "code",
   "execution_count": 15,
   "metadata": {},
   "outputs": [
    {
     "output_type": "stream",
     "name": "stdout",
     "text": [
      "['Amazon Kindle', 'BOOKS_AND_REFERENCE', '4.2', '814080', 'Varies with device', '100,000,000+', 'Free', '0', 'Teen', 'Books & Reference', 'July 27, 2018', 'Varies with device', 'Varies with device']\n['Amazon Kindle', 'BOOKS_AND_REFERENCE', '4.2', '814151', 'Varies with device', '100,000,000+', 'Free', '0', 'Teen', 'Books & Reference', 'July 27, 2018', 'Varies with device', 'Varies with device']\n"
     ]
    }
   ],
   "source": [
    "# Select some duplicate apps to see the data\n",
    "for row in android_data:\n",
    "    name = row[0]\n",
    "    if name == \"Amazon Kindle\":\n",
    "        print(row)"
   ]
  },
  {
   "source": [
    "The data for both rows suggest that they are the same app. The only difference between both rows is number of reviews. It is likely that the row with higher number of reviews is the row that contains more recent data."
   ],
   "cell_type": "markdown",
   "metadata": {}
  },
  {
   "cell_type": "code",
   "execution_count": 16,
   "metadata": {},
   "outputs": [
    {
     "output_type": "stream",
     "name": "stdout",
     "text": [
      "['Instagram', 'SOCIAL', '4.5', '66577313', 'Varies with device', '1,000,000,000+', 'Free', '0', 'Teen', 'Social', 'July 31, 2018', 'Varies with device', 'Varies with device']\n['Instagram', 'SOCIAL', '4.5', '66577446', 'Varies with device', '1,000,000,000+', 'Free', '0', 'Teen', 'Social', 'July 31, 2018', 'Varies with device', 'Varies with device']\n['Instagram', 'SOCIAL', '4.5', '66577313', 'Varies with device', '1,000,000,000+', 'Free', '0', 'Teen', 'Social', 'July 31, 2018', 'Varies with device', 'Varies with device']\n['Instagram', 'SOCIAL', '4.5', '66509917', 'Varies with device', '1,000,000,000+', 'Free', '0', 'Teen', 'Social', 'July 31, 2018', 'Varies with device', 'Varies with device']\n"
     ]
    }
   ],
   "source": [
    "# Select some duplicate apps to see the data\n",
    "for row in android_data:\n",
    "    name = row[0]\n",
    "    if name == \"Instagram\":\n",
    "        print(row)"
   ]
  },
  {
   "source": [
    "Similar to *Amazon Kindle*, the data from all 4 rows suggest that they are the same app. The only difference is number of reviews."
   ],
   "cell_type": "markdown",
   "metadata": {}
  },
  {
   "cell_type": "code",
   "execution_count": 17,
   "metadata": {},
   "outputs": [
    {
     "output_type": "stream",
     "name": "stdout",
     "text": [
      "['Ebook Reader', 'BOOKS_AND_REFERENCE', '4.1', '85842', '37M', '5,000,000+', 'Free', '0', 'Everyone', 'Books & Reference', 'June 25, 2018', '5.0.6', '4.0 and up']\n['Ebook Reader', 'BOOKS_AND_REFERENCE', '4.1', '85842', '37M', '5,000,000+', 'Free', '0', 'Everyone', 'Books & Reference', 'June 25, 2018', '5.0.6', '4.0 and up']\n"
     ]
    }
   ],
   "source": [
    "# Select some duplicate apps to see the data\n",
    "for row in android_data:\n",
    "    name = row[0]\n",
    "    if name == \"Ebook Reader\":\n",
    "        print(row)"
   ]
  },
  {
   "source": [
    "Both rows contain exactly the same data.\n",
    "\n",
    "Next, the duplicate apps with equal or lower number of reviews will be removed."
   ],
   "cell_type": "markdown",
   "metadata": {}
  },
  {
   "cell_type": "code",
   "execution_count": 18,
   "metadata": {},
   "outputs": [],
   "source": [
    "# Create dataset that only include unique apps\n",
    "reviews_max = {}\n",
    "\n",
    "for row in android_data:\n",
    "    name = row[0]\n",
    "    n_reviews = float(row[3])\n",
    "    if name in reviews_max and reviews_max[name] < n_reviews:\n",
    "       reviews_max[name] = n_reviews\n",
    "    if name not in reviews_max:\n",
    "        reviews_max[name] = n_reviews\n",
    "\n",
    "assert len(reviews_max) == len(android_unique_apps)"
   ]
  },
  {
   "source": [
    "The app name and its highest number of reviews are paired and stored in `reviews_max`. At the end, we check that the number of apps in `reviews_max` equals to the number of apps in `unique_apps` to ensure that all data are included."
   ],
   "cell_type": "markdown",
   "metadata": {}
  },
  {
   "cell_type": "code",
   "execution_count": 19,
   "metadata": {},
   "outputs": [],
   "source": [
    "android_clean = []\n",
    "already_added = []\n",
    "\n",
    "for row in android_data:\n",
    "    name = row[0]\n",
    "    n_reviews = float(row[3])\n",
    "    if reviews_max[name] == n_reviews and name not in already_added:\n",
    "        android_clean.append(row)\n",
    "        already_added.append(name)\n",
    "\n",
    "assert len(reviews_max) == len(android_unique_apps) == len(android_clean)"
   ]
  },
  {
   "source": [
    "The rows with highest number of reviews of each (duplicate) app are selected and stored in a new list called `android_clean`. Similar to the process before, we check that the number of apps in our new list equals to the number of apps in `reviews_max` and `unique_apps` to ensure that all data are included."
   ],
   "cell_type": "markdown",
   "metadata": {}
  },
  {
   "source": [
    "### Prepare Android data for the analysis\n",
    "Similar to the iOS data set, the Android app names will be checked and identified whether it is an English-speaking app. If there are more than 3 non-English characters in the name, the app will be considered as a non-English app. We will then separate between free and paid apps among our English apps."
   ],
   "cell_type": "markdown",
   "metadata": {}
  },
  {
   "cell_type": "code",
   "execution_count": 20,
   "metadata": {},
   "outputs": [
    {
     "output_type": "stream",
     "name": "stdout",
     "text": [
      "There are 9,597 apps with English names.\nExample: Photo Editor & Candy Camera & Grid & ScrapBook , U Launcher Lite – FREE Live Cool Themes, Hide Apps , Sketch - Draw & Paint , Pixel Draw - Number Art Coloring Book\n\nThere are 62 apps with non-English names.\nExample: Truyện Vui Tý Quậy , Flame - درب عقلك يوميا , At home - rental · real estate · room finding application such as apartment · apartment , 乐屋网: Buying a house, selling a house, renting a house\n"
     ]
    }
   ],
   "source": [
    "# Separate English apps and non-English apps\n",
    "android_eng_apps = []\n",
    "android_noneng_apps = []\n",
    "\n",
    "for row in android_clean:\n",
    "    eng = eng_check(row[0])\n",
    "    if eng == True:\n",
    "        android_eng_apps.append(row)\n",
    "    else:\n",
    "        android_noneng_apps.append(row)\n",
    "\n",
    "assert len(android_clean) == len(android_eng_apps) + len(android_noneng_apps)\n",
    "\n",
    "print(f\"There are {len(android_eng_apps):,.0f} apps with English names.\")\n",
    "print(\"Example:\", android_eng_apps[0][0], \",\", android_eng_apps[1][0], \",\", android_eng_apps[2][0], \",\", android_eng_apps[3][0])\n",
    "print()\n",
    "print(f\"There are {len(android_noneng_apps):,.0f} apps with non-English names.\")\n",
    "print(\"Example:\", android_noneng_apps[0][0], \",\", android_noneng_apps[1][0], \",\", android_noneng_apps[2][0], \",\", android_noneng_apps[3][0])"
   ]
  },
  {
   "source": [
    "# Check price of apps\n",
    "android_eng_apps_price_f1 = {}\n",
    "\n",
    "for row in android_eng_apps:\n",
    "    android_eng_apps_price_f1.setdefault(row[6], 0)         # Grouped data based on \"Type\"\n",
    "    android_eng_apps_price_f1[row[6]] += 1\n",
    "\n",
    "print(android_eng_apps_price_f1)\n",
    "print()\n",
    "\n",
    "android_eng_apps_price_f2 = {}\n",
    "\n",
    "for row in android_eng_apps:\n",
    "    android_eng_apps_price_f2.setdefault(row[7], 0)         # Grouped data based on \"Price\"\n",
    "    android_eng_apps_price_f2[row[7]] += 1\n",
    "\n",
    "print(android_eng_apps_price_f2)"
   ],
   "cell_type": "code",
   "metadata": {},
   "execution_count": 21,
   "outputs": [
    {
     "output_type": "stream",
     "name": "stdout",
     "text": [
      "{'Free': 8847, 'Paid': 749, 'NaN': 1}\n\n{'0': 8848, '$4.99': 70, '$3.99': 56, '$1.49': 45, '$2.99': 123, '$7.99': 7, '$5.99': 26, '$3.49': 7, '$1.99': 73, '$6.99': 10, '$9.99': 19, '$7.49': 2, '$0.99': 145, '$9.00': 1, '$5.49': 5, '$10.00': 2, '$11.99': 3, '$79.99': 1, '$16.99': 2, '$14.99': 9, '$1.00': 3, '$29.99': 5, '$2.49': 25, '$24.99': 3, '$10.99': 1, '$1.50': 1, '$19.99': 5, '$15.99': 1, '$33.99': 1, '$74.99': 1, '$39.99': 2, '$3.95': 1, '$4.49': 9, '$1.70': 2, '$8.99': 5, '$2.00': 3, '$3.88': 1, '$25.99': 1, '$399.99': 11, '$17.99': 2, '$400.00': 1, '$3.02': 1, '$1.76': 1, '$4.84': 1, '$4.77': 1, '$1.61': 1, '$2.50': 1, '$1.59': 1, '$6.49': 5, '$1.29': 1, '$5.00': 1, '$13.99': 2, '$299.99': 1, '$379.99': 1, '$37.99': 1, '$18.99': 1, '$389.99': 1, '$19.90': 1, '$8.49': 2, '$1.75': 1, '$14.00': 1, '$4.85': 1, '$46.99': 1, '$109.99': 1, '$154.99': 1, '$3.08': 1, '$2.59': 1, '$4.80': 1, '$1.96': 1, '$19.40': 1, '$3.90': 1, '$4.59': 1, '$15.46': 1, '$3.04': 1, '$12.99': 3, '$4.29': 1, '$2.60': 1, '$3.28': 1, '$4.60': 1, '$28.99': 1, '$2.95': 1, '$2.90': 1, '$1.97': 1, '$200.00': 1, '$89.99': 1, '$2.56': 1, '$30.99': 1, '$3.61': 1, '$394.99': 1, '$1.26': 1, '$1.20': 1, '$1.04': 1}\n"
     ]
    }
   ]
  },
  {
   "source": [
    "The first dictionary `android_eng_apps_price_f1` shows the frequency of each app types, while the second dictionary `android_eng_apps_price_f2` shows the frequency of each app's actual prices.\n",
    "\n",
    "Note that there are 8,863 \"Free\" apps, while there are 8,864 \"$0\" apps."
   ],
   "cell_type": "markdown",
   "metadata": {}
  },
  {
   "cell_type": "code",
   "execution_count": 22,
   "metadata": {},
   "outputs": [
    {
     "output_type": "stream",
     "name": "stdout",
     "text": [
      "['Command & Conquer: Rivals', 'FAMILY', 'NaN', '0', 'Varies with device', '0', 'NaN', '0', 'Everyone 10+', 'Strategy', 'June 28, 2018', 'Varies with device', 'Varies with device']\n"
     ]
    }
   ],
   "source": [
    "for row in android_eng_apps:\n",
    "    if row[6] == \"NaN\":\n",
    "        print(row)"
   ]
  },
  {
   "source": [
    "I have confirmed from other sources that the *Command & Conquer: Rivals* game is free-to-play. Hence, this will be included in \"Free\" type, to align with its price. Next we can start to separate the apps into 2 groups: *free* and *paid* apps."
   ],
   "cell_type": "markdown",
   "metadata": {}
  },
  {
   "cell_type": "code",
   "execution_count": 23,
   "metadata": {},
   "outputs": [
    {
     "output_type": "stream",
     "name": "stdout",
     "text": [
      "There are 8,848 free apps with English names.\nExample: Photo Editor & Candy Camera & Grid & ScrapBook , U Launcher Lite – FREE Live Cool Themes, Hide Apps , Sketch - Draw & Paint , Pixel Draw - Number Art Coloring Book\n\nThere are 749 paid apps with English names.\nExample: TurboScan: scan documents and receipts in PDF , Tiny Scanner Pro: PDF Doc Scan , Puffin Browser Pro , Truth or Dare Pro\n"
     ]
    }
   ],
   "source": [
    "# Separate free and paid apps\n",
    "android_eng_free_apps = []\n",
    "android_eng_paid_apps = []\n",
    "\n",
    "for row in android_eng_apps:\n",
    "    if row[7] == \"0\":\n",
    "        android_eng_free_apps.append(row)\n",
    "    else:\n",
    "        android_eng_paid_apps.append(row)\n",
    "\n",
    "assert len(android_eng_apps) == len(android_eng_free_apps) + len(android_eng_paid_apps)\n",
    "\n",
    "print(f\"There are {len(android_eng_free_apps):,.0f} free apps with English names.\")\n",
    "print(\"Example:\", android_eng_free_apps[0][0], \",\", android_eng_free_apps[1][0], \",\", android_eng_free_apps[2][0], \",\", android_eng_free_apps[3][0])\n",
    "print()\n",
    "print(f\"There are {len(android_eng_paid_apps):,.0f} paid apps with English names.\")\n",
    "print(\"Example:\", android_eng_paid_apps[0][0], \",\", android_eng_paid_apps[1][0], \",\", android_eng_paid_apps[2][0], \",\", android_eng_paid_apps[3][0])"
   ]
  },
  {
   "source": [
    "After data preparation, there are 3,198 free iOS apps and 8,848 free Android apps, with English names, for the analysis. From this point on, these apps will be referred to as \"English free apps\"."
   ],
   "cell_type": "markdown",
   "metadata": {}
  },
  {
   "source": [
    "# Step 2 - Data analysis\n",
    "\n",
    "The validation strategy for an app idea consists of 3 steps:\n",
    "\n",
    "1. Build a minimal Android version and add it to Google Play store.\n",
    "2. If the app has a good response from users, the app will be developed further.\n",
    "3. If the app is profitable after 6 months, the iOS version will be developed and added to the App Store.\n",
    "\n",
    "As our goal is to add this app to both Google Play and App Store, the following analysis will help to determine the app profiles that are successful on both stores."
   ],
   "cell_type": "markdown",
   "metadata": {}
  },
  {
   "cell_type": "code",
   "execution_count": 24,
   "metadata": {},
   "outputs": [
    {
     "output_type": "stream",
     "name": "stdout",
     "text": [
      "['id', 'track_name', 'size_bytes', 'currency', 'price', 'rating_count_tot', 'rating_count_ver', 'user_rating', 'user_rating_ver', 'ver', 'cont_rating', 'prime_genre', 'sup_devices.num', 'ipadSc_urls.num', 'lang.num', 'vpp_lic']\n\n['App', 'Category', 'Rating', 'Reviews', 'Size', 'Installs', 'Type', 'Price', 'Content Rating', 'Genres', 'Last Updated', 'Current Ver', 'Android Ver']\n"
     ]
    }
   ],
   "source": [
    "# Revisit the table headers to determine the columns used for the analysis\n",
    "print(ios_header)\n",
    "print()\n",
    "print(android_header)"
   ]
  },
  {
   "source": [
    "The columns that could be beneficial to the analysis are *prime_genre*, for iOS data set, and *Category* and *Genres*, for Android data set, as these would suggest the common app genre/category in each store."
   ],
   "cell_type": "markdown",
   "metadata": {}
  },
  {
   "cell_type": "code",
   "execution_count": 25,
   "metadata": {},
   "outputs": [],
   "source": [
    "# This function is to extract data to determine frequencies of each genre\n",
    "def freq_table(dataset, index):\n",
    "    table_eng_free_f = {}\n",
    "    for row in dataset:\n",
    "        table_eng_free_f.setdefault(row[index], 0)\n",
    "        table_eng_free_f[row[index]] += 1\n",
    "    for k, v in table_eng_free_f.items():\n",
    "        v = (v / len(dataset)) * 100\n",
    "        table_eng_free_f[k] = v\n",
    "    \n",
    "    return table_eng_free_f"
   ]
  },
  {
   "cell_type": "code",
   "execution_count": 26,
   "metadata": {},
   "outputs": [],
   "source": [
    "# This function is to display the table in descending order of the frequencies\n",
    "def display_table(dataset):\n",
    "    table_display = []\n",
    "    for key in dataset:\n",
    "        key_val_as_tuple = (dataset[key], key)\n",
    "        table_display.append(key_val_as_tuple)\n",
    "\n",
    "    table_sorted = sorted(table_display, reverse = True)\n",
    "    for entry in table_sorted:\n",
    "        print(entry[1], ':', f\"{entry[0]:,.4f}\")     # Reduce the decimal digits to be more readable"
   ]
  },
  {
   "source": [
    "## Step 2a - Find the most common genre in each store\n",
    "### iOS common genre"
   ],
   "cell_type": "markdown",
   "metadata": {}
  },
  {
   "cell_type": "code",
   "execution_count": 27,
   "metadata": {},
   "outputs": [
    {
     "output_type": "execute_result",
     "data": {
      "text/plain": [
       "11"
      ]
     },
     "metadata": {},
     "execution_count": 27
    }
   ],
   "source": [
    "# Find an index of \"prime_genre\" column\n",
    "ios_header.index(\"prime_genre\")"
   ]
  },
  {
   "cell_type": "code",
   "execution_count": 28,
   "metadata": {},
   "outputs": [
    {
     "output_type": "stream",
     "name": "stdout",
     "text": [
      "Games : 58.2864\n",
      "Entertainment : 7.8487\n",
      "Photo & Video : 5.0031\n",
      "Education : 3.6898\n",
      "Social Networking : 3.2520\n",
      "Shopping : 2.5954\n",
      "Utilities : 2.4703\n",
      "Sports : 2.1576\n",
      "Music : 2.0638\n",
      "Health & Fitness : 2.0325\n",
      "Productivity : 1.7511\n",
      "Lifestyle : 1.5635\n",
      "News : 1.3446\n",
      "Travel : 1.2195\n",
      "Finance : 1.0944\n",
      "Weather : 0.8755\n",
      "Food & Drink : 0.8130\n",
      "Reference : 0.5316\n",
      "Business : 0.5316\n",
      "Book : 0.3752\n",
      "Navigation : 0.1876\n",
      "Medical : 0.1876\n",
      "Catalogs : 0.1251\n"
     ]
    }
   ],
   "source": [
    "# Determine frequencies of each genre\n",
    "ios_eng_free_f = freq_table(ios_eng_free_apps, 11)\n",
    "display_table(ios_eng_free_f)"
   ]
  },
  {
   "source": [
    "Approximately 71% of our English free apps in App Store are designed for entertainment purpose. The top 3 are:\n",
    "\n",
    "1. *Games*, which takes up to more than half of all English free apps - at 58.29%. \n",
    "2. *Entertainment* - at 7.85%\n",
    "3. *Photo & Video* - at 5.00%\n",
    "\n",
    "Based on the frequency above, it is not possible to conclude that *Games* is the most popular app profile in App Store. However, this might suggest that there would be many competitor apps if we launch a game on App Store."
   ],
   "cell_type": "markdown",
   "metadata": {}
  },
  {
   "source": [
    "### Anroid common genre"
   ],
   "cell_type": "markdown",
   "metadata": {}
  },
  {
   "cell_type": "code",
   "execution_count": 29,
   "metadata": {},
   "outputs": [
    {
     "output_type": "execute_result",
     "data": {
      "text/plain": [
       "1"
      ]
     },
     "metadata": {},
     "execution_count": 29
    }
   ],
   "source": [
    "# Find an index of \"Category\" column\n",
    "android_header.index(\"Category\")"
   ]
  },
  {
   "cell_type": "code",
   "execution_count": 30,
   "metadata": {},
   "outputs": [
    {
     "output_type": "stream",
     "name": "stdout",
     "text": [
      "FAMILY : 18.9421\nGAME : 9.6971\nTOOLS : 8.4539\nBUSINESS : 4.5999\nPRODUCTIVITY : 3.8992\nLIFESTYLE : 3.8879\nFINANCE : 3.7071\nMEDICAL : 3.5375\nSPORTS : 3.3906\nPERSONALIZATION : 3.3228\nCOMMUNICATION : 3.2324\nHEALTH_AND_FITNESS : 3.0854\nPHOTOGRAPHY : 2.9498\nNEWS_AND_MAGAZINES : 2.8029\nSOCIAL : 2.6673\nTRAVEL_AND_LOCAL : 2.3395\nSHOPPING : 2.2491\nBOOKS_AND_REFERENCE : 2.1361\nDATING : 1.8648\nVIDEO_PLAYERS : 1.7970\nMAPS_AND_NAVIGATION : 1.3901\nFOOD_AND_DRINK : 1.2432\nEDUCATION : 1.1641\nENTERTAINMENT : 0.9607\nLIBRARIES_AND_DEMO : 0.9381\nAUTO_AND_VEHICLES : 0.9268\nHOUSE_AND_HOME : 0.8024\nWEATHER : 0.7911\nEVENTS : 0.7120\nPARENTING : 0.6555\nART_AND_DESIGN : 0.6442\nCOMICS : 0.6103\nBEAUTY : 0.5990\n"
     ]
    }
   ],
   "source": [
    "# Determine frequencies of each category\n",
    "android_eng_free_f_cat = freq_table(android_eng_free_apps, 1)\n",
    "display_table(android_eng_free_f_cat)"
   ]
  },
  {
   "source": [
    "The frequencies of the English free apps in Google Play are more distributed, comparing to those of App Store. The first common *Category* is *Family* - at 18.94%, followed by *Game* (9.70%), and *Tool* (8.45%).\n",
    "\n",
    "After further investigation, *Family* category is for apps designed for children. (At the time of writing, the *Family* category is named *Kids* on the Google Play website.) Under *Family*, the sub-category includes educational, games, and entertainment.\n",
    "\n",
    "Next, we check *Genres* column."
   ],
   "cell_type": "markdown",
   "metadata": {}
  },
  {
   "cell_type": "code",
   "execution_count": 31,
   "metadata": {},
   "outputs": [
    {
     "output_type": "execute_result",
     "data": {
      "text/plain": [
       "9"
      ]
     },
     "metadata": {},
     "execution_count": 31
    }
   ],
   "source": [
    "# Find an index of \"Genres\" column\n",
    "android_header.index(\"Genres\")"
   ]
  },
  {
   "cell_type": "code",
   "execution_count": 32,
   "metadata": {},
   "outputs": [
    {
     "output_type": "stream",
     "name": "stdout",
     "text": [
      "Tools : 8.4426\nEntertainment : 6.0805\nEducation : 5.3571\nBusiness : 4.5999\nProductivity : 3.8992\nLifestyle : 3.8766\nFinance : 3.7071\nMedical : 3.5375\nSports : 3.4584\nPersonalization : 3.3228\nCommunication : 3.2324\nAction : 3.0967\nHealth & Fitness : 3.0854\nPhotography : 2.9498\nNews & Magazines : 2.8029\nSocial : 2.6673\nTravel & Local : 2.3282\nShopping : 2.2491\nBooks & Reference : 2.1361\nSimulation : 2.0457\nDating : 1.8648\nArcade : 1.8422\nVideo Players & Editors : 1.7744\nCasual : 1.7631\nMaps & Navigation : 1.3901\nFood & Drink : 1.2432\nPuzzle : 1.1302\nRacing : 0.9946\nRole Playing : 0.9381\nLibraries & Demo : 0.9381\nAuto & Vehicles : 0.9268\nStrategy : 0.9155\nHouse & Home : 0.8024\nWeather : 0.7911\nEvents : 0.7120\nAdventure : 0.6668\nComics : 0.5990\nBeauty : 0.5990\nArt & Design : 0.5990\nParenting : 0.4973\nCard : 0.4521\nTrivia : 0.4182\nCasino : 0.4182\nEducational;Education : 0.3956\nBoard : 0.3843\nEducational : 0.3730\nEducation;Education : 0.3391\nWord : 0.2599\nCasual;Pretend Play : 0.2373\nMusic : 0.2034\nRacing;Action & Adventure : 0.1695\nPuzzle;Brain Games : 0.1695\nEntertainment;Music & Video : 0.1695\nCasual;Brain Games : 0.1356\nCasual;Action & Adventure : 0.1356\nArcade;Action & Adventure : 0.1243\nAction;Action & Adventure : 0.1017\nEducational;Pretend Play : 0.0904\nSimulation;Action & Adventure : 0.0791\nParenting;Education : 0.0791\nEntertainment;Brain Games : 0.0791\nBoard;Brain Games : 0.0791\nParenting;Music & Video : 0.0678\nEducational;Brain Games : 0.0678\nCasual;Creativity : 0.0678\nArt & Design;Creativity : 0.0678\nEducation;Pretend Play : 0.0565\nRole Playing;Pretend Play : 0.0452\nEducation;Creativity : 0.0452\nRole Playing;Action & Adventure : 0.0339\nPuzzle;Action & Adventure : 0.0339\nEntertainment;Creativity : 0.0339\nEntertainment;Action & Adventure : 0.0339\nEducational;Creativity : 0.0339\nEducational;Action & Adventure : 0.0339\nEducation;Music & Video : 0.0339\nEducation;Brain Games : 0.0339\nEducation;Action & Adventure : 0.0339\nAdventure;Action & Adventure : 0.0339\nVideo Players & Editors;Music & Video : 0.0226\nSports;Action & Adventure : 0.0226\nSimulation;Pretend Play : 0.0226\nPuzzle;Creativity : 0.0226\nMusic;Music & Video : 0.0226\nEntertainment;Pretend Play : 0.0226\nCasual;Education : 0.0226\nBoard;Action & Adventure : 0.0226\nVideo Players & Editors;Creativity : 0.0113\nTrivia;Education : 0.0113\nTravel & Local;Action & Adventure : 0.0113\nTools;Education : 0.0113\nStrategy;Education : 0.0113\nStrategy;Creativity : 0.0113\nStrategy;Action & Adventure : 0.0113\nSimulation;Education : 0.0113\nRole Playing;Brain Games : 0.0113\nRacing;Pretend Play : 0.0113\nPuzzle;Education : 0.0113\nParenting;Brain Games : 0.0113\nMusic & Audio;Music & Video : 0.0113\nLifestyle;Pretend Play : 0.0113\nLifestyle;Education : 0.0113\nHealth & Fitness;Education : 0.0113\nHealth & Fitness;Action & Adventure : 0.0113\nEntertainment;Education : 0.0113\nCommunication;Creativity : 0.0113\nComics;Creativity : 0.0113\nCasual;Music & Video : 0.0113\nCard;Action & Adventure : 0.0113\nBooks & Reference;Education : 0.0113\nArt & Design;Pretend Play : 0.0113\nArt & Design;Action & Adventure : 0.0113\nArcade;Pretend Play : 0.0113\nAdventure;Education : 0.0113\n"
     ]
    }
   ],
   "source": [
    "# Determine frequencies of each Genres\n",
    "android_eng_free_f_genres = freq_table(android_eng_free_apps, 9)\n",
    "display_table(android_eng_free_f_genres)"
   ]
  },
  {
   "cell_type": "code",
   "execution_count": 33,
   "metadata": {},
   "outputs": [
    {
     "output_type": "stream",
     "name": "stdout",
     "text": [
      "{'ENTERTAINMENT': 3, 'GAME': 1, 'FAMILY': 53}\n"
     ]
    }
   ],
   "source": [
    "# Check sample rows with more than 1 genre belongs to which category\n",
    "temp_genres_cat = {}\n",
    "\n",
    "for row in android_eng_free_apps:\n",
    "    if row[9] == \"Racing;Action & Adventure\" or row[9] == \"Entertainment;Music & Video\" or row[9] == \"Puzzle;Brain Games\" or row[9] == \"Casual;Brain Games\":\n",
    "        temp_genres_cat.setdefault(row[1], 0)\n",
    "        temp_genres_cat[row[1]] += 1\n",
    "\n",
    "print(temp_genres_cat)"
   ]
  },
  {
   "source": [
    "The data from *Genres* column has too many categories. Note that \"Game\" or \"Family\", our top 2 categories, do not appear in *Genres*. However, there are lots of game categories (e.g. Racing, Simulation, Arcade, and Puzzle) in our data instead.\n",
    "\n",
    "It seems like this *Genres* column acted as a sub-categories or labels for each app. Hence, we will focus on working with *Category* data."
   ],
   "cell_type": "markdown",
   "metadata": {}
  },
  {
   "source": [
    "## Step 2b - Find the most popular apps in each store\n",
    "### iOS popular apps\n",
    "In our App Store data set, there is no data about number of downloads or installs. Assuming that higher number of reviews could signal higher number of installs, *rating_count_tot* will be used to analyze the popularity of the apps. "
   ],
   "cell_type": "markdown",
   "metadata": {}
  },
  {
   "cell_type": "code",
   "execution_count": 34,
   "metadata": {},
   "outputs": [
    {
     "output_type": "stream",
     "name": "stdout",
     "text": [
      "5\n11\n"
     ]
    }
   ],
   "source": [
    "print(ios_header.index(\"rating_count_tot\"))\n",
    "print(ios_header.index(\"prime_genre\"))"
   ]
  },
  {
   "cell_type": "code",
   "execution_count": 35,
   "metadata": {
    "tags": []
   },
   "outputs": [
    {
     "output_type": "stream",
     "name": "stdout",
     "text": [
      "Navigation : 86,090.3333\nReference : 79,350.4706\nSocial Networking : 72,916.5481\nMusic : 57,326.5303\nWeather : 52,279.8929\nBook : 46,384.9167\nFood & Drink : 33,333.9231\nFinance : 32,367.0286\nTravel : 28,964.0513\nPhoto & Video : 28,441.5438\nShopping : 27,230.7349\nHealth & Fitness : 23,298.0154\nSports : 23,008.8986\nGames : 22,910.9233\nNews : 21,248.0233\nProductivity : 21,028.4107\nUtilities : 19,156.4937\nLifestyle : 16,815.4800\nEntertainment : 14,195.3586\nBusiness : 7,491.1176\nEducation : 7,003.9831\nCatalogs : 4,004.0000\nMedical : 612.0000\n"
     ]
    }
   ],
   "source": [
    "# Find average number of reviews in each genre\n",
    "ios_eng_free_genre = freq_table(ios_eng_free_apps, 11)\n",
    "ios_ef_genre_sorted = {}\n",
    "\n",
    "for genre in ios_eng_free_genre:\n",
    "    total = 0\n",
    "    len_genre = 0\n",
    "    for app in ios_eng_free_apps:\n",
    "        genre_app = app[11]\n",
    "        if genre_app == genre:\n",
    "            rating_count = float(app[5])\n",
    "            total += rating_count\n",
    "            len_genre += 1\n",
    "    avg_user = total / len_genre\n",
    "    ios_ef_genre_sorted.setdefault(genre, avg_user)\n",
    "\n",
    "display_table(ios_ef_genre_sorted)"
   ]
  },
  {
   "source": [
    "The table above shows that navigation apps have the highest number of reviews, followed by reference apps (example of reference apps are Wikipedia, WolframAlpha, and Dictionary), and social networking apps. Game apps, which is the most common genre, have only 22k reviews."
   ],
   "cell_type": "markdown",
   "metadata": {}
  },
  {
   "cell_type": "code",
   "execution_count": 36,
   "metadata": {},
   "outputs": [
    {
     "output_type": "stream",
     "name": "stdout",
     "text": [
      "Waze - GPS Navigation, Maps & Real-time Traffic : 345,046.00\nGoogle Maps - Navigation & Transit : 154,911.00\nGeocaching® : 12,811.00\nCoPilot GPS – Car Navigation & Offline Maps : 3,582.00\nImmobilienScout24: Real Estate Search in Germany : 187.00\nRailway Route Search : 5.00\n"
     ]
    }
   ],
   "source": [
    "# Exploring each genre\n",
    "for row in ios_eng_free_apps:\n",
    "    if row[11] == \"Navigation\":\n",
    "        print(f\"{row[1]} : {float((row[5])):,.2f}\")"
   ]
  },
  {
   "source": [
    "There are only 6 English free apps in navigation genre. *Waze* and *Google Maps* together have almost 500k reviews. On the other hand, number of reviews of the other 4 apps combined still couldn't reach 20k yet. It could be difficult trying to steal a market share from Google products."
   ],
   "cell_type": "markdown",
   "metadata": {}
  },
  {
   "cell_type": "code",
   "execution_count": 37,
   "metadata": {},
   "outputs": [
    {
     "output_type": "stream",
     "name": "stdout",
     "text": [
      "Bible : 985,920.00\n",
      "Dictionary.com Dictionary & Thesaurus : 200,047.00\n",
      "Dictionary.com Dictionary & Thesaurus for iPad : 54,175.00\n",
      "Google Translate : 26,786.00\n",
      "Muslim Pro: Ramadan 2017 Prayer Times, Azan, Quran : 18,418.00\n",
      "New Furniture Mods - Pocket Wiki & Game Tools for Minecraft PC Edition : 17,588.00\n",
      "Merriam-Webster Dictionary : 16,849.00\n",
      "Night Sky : 12,122.00\n",
      "City Maps for Minecraft PE - The Best Maps for Minecraft Pocket Edition (MCPE) : 8,535.00\n",
      "LUCKY BLOCK MOD ™ for Minecraft PC Edition - The Best Pocket Wiki & Mods Installer Tools : 4,693.00\n",
      "GUNS MODS for Minecraft PC Edition - Mods Tools : 1,497.00\n",
      "Guides for Pokémon GO - Pokemon GO News and Cheats : 826.00\n",
      "WWDC : 762.00\n",
      "Horror Maps for Minecraft PE - Download The Scariest Maps for Minecraft Pocket Edition (MCPE) Free : 718.00\n",
      "VPN Express : 14.00\n",
      "Real Bike Traffic Rider Virtual Reality Glasses : 8.00\n",
      "Jishokun-Japanese English Dictionary & Translator : 0.00\n"
     ]
    }
   ],
   "source": [
    "# Exploring each genre\n",
    "for row in ios_eng_free_apps:\n",
    "    if row[11] == \"Reference\":\n",
    "        print(f\"{row[1]} : {float((row[5])):,.2f}\")"
   ]
  },
  {
   "source": [
    "Among reference apps, *Bible* has the most number of reviews, at almost 1M. The second and place are the same product, but for different devices, from *Dictionary.com*. Both apps together have approximately 250k reviews. As the data is heavily skewed, even without considering *Bible*, it could be difficult as well to get a market share from a big player like *Dictionary.com*. Even *Google Translate* and *Merriam-Webster Dictionary* are far behind.\n",
    "\n",
    "Similarly, social networking, music, and weather genres are also dominated by big players, such as Facebook (~3M reviews), Pandora and Spotify (~2M reviews), and The Weather Channel (~700k reviews)."
   ],
   "cell_type": "markdown",
   "metadata": {}
  },
  {
   "cell_type": "code",
   "execution_count": 38,
   "metadata": {},
   "outputs": [
    {
     "output_type": "stream",
     "name": "stdout",
     "text": [
      "Facebook : 2,974,676.00\nPinterest : 1,061,624.00\nSkype for iPhone : 373,519.00\nMessenger : 351,466.00\nTumblr : 334,293.00\n"
     ]
    }
   ],
   "source": [
    "# Exploring each genre\n",
    "ios_Social = []\n",
    "\n",
    "for row in ios_eng_free_apps:\n",
    "    if row[11] == \"Social Networking\":\n",
    "        ios_Social.append(row)\n",
    "\n",
    "for app in ios_Social[0:5]:\n",
    "    print(f\"{app[1]} : {float((app[5])):,.2f}\")"
   ]
  },
  {
   "cell_type": "code",
   "execution_count": 39,
   "metadata": {},
   "outputs": [
    {
     "output_type": "stream",
     "name": "stdout",
     "text": [
      "Pandora - Music & Radio : 1,126,879.00\n",
      "Spotify Music : 878,563.00\n",
      "Shazam - Discover music, artists, videos & lyrics : 402,925.00\n",
      "iHeartRadio – Free Music & Radio Stations : 293,228.00\n",
      "SoundCloud - Music & Audio : 135,744.00\n"
     ]
    }
   ],
   "source": [
    "# Exploring each genre\n",
    "ios_Music = []\n",
    "\n",
    "for row in ios_eng_free_apps:\n",
    "    if row[11] == \"Music\":\n",
    "        ios_Music.append(row)\n",
    "\n",
    "for app in ios_Music[0:5]:\n",
    "    print(f\"{app[1]} : {float((app[5])):,.2f}\")"
   ]
  },
  {
   "cell_type": "code",
   "execution_count": 40,
   "metadata": {},
   "outputs": [
    {
     "output_type": "stream",
     "name": "stdout",
     "text": [
      "The Weather Channel: Forecast, Radar & Alerts : 495,626.00\nThe Weather Channel App for iPad – best local forecast, radar map, and storm tracking : 208,648.00\nWeatherBug - Local Weather, Radar, Maps, Alerts : 188,583.00\nMyRadar NOAA Weather Radar Forecast : 150,158.00\nAccuWeather - Weather for Life : 144,214.00\n"
     ]
    }
   ],
   "source": [
    "# Exploring each genre\n",
    "ios_Weather = []\n",
    "\n",
    "for row in ios_eng_free_apps:\n",
    "    if row[11] == \"Weather\":\n",
    "        ios_Weather.append(row)\n",
    "\n",
    "for app in ios_Weather[0:5]:\n",
    "    print(f\"{app[1]} : {float((app[5])):,.2f}\")"
   ]
  },
  {
   "source": [
    "Book genre shows some potential. Currently, there are 12 free English apps under this genre and only one adult coloring book. eBooks and audio books would require extensive collections to be able to steal spotlight from Amazon's Kindle and Audible. Adult coloring book seems to be a good option as people would need to spend time in our app. Once one picture is done, they could continue to color another picture endlessly. Later we could also offer in-app purchases for more colors or more pictures."
   ],
   "cell_type": "markdown",
   "metadata": {}
  },
  {
   "cell_type": "code",
   "execution_count": 41,
   "metadata": {},
   "outputs": [
    {
     "output_type": "stream",
     "name": "stdout",
     "text": [
      "Kindle – Read eBooks, Magazines & Textbooks : 252,076.00\n",
      "Audible – audio books, original series & podcasts : 105,274.00\n",
      "Color Therapy Adult Coloring Book for Adults : 84,062.00\n",
      "OverDrive – Library eBooks and Audiobooks : 65,450.00\n",
      "HOOKED - Chat Stories : 47,829.00\n",
      "BookShout: Read eBooks & Track Your Reading Goals : 879.00\n",
      "Dr. Seuss Treasury — 50 best kids books : 451.00\n",
      "Green Riding Hood : 392.00\n",
      "Weirdwood Manor : 197.00\n",
      "MangaZERO - comic reader : 9.00\n",
      "ikouhoushi : 0.00\n",
      "MangaTiara - love comic reader : 0.00\n"
     ]
    }
   ],
   "source": [
    "# Exploring each genre\n",
    "for row in ios_eng_free_apps:\n",
    "    if row[11] == \"Book\":\n",
    "        print(f\"{row[1]} : {float((row[5])):,.2f}\")"
   ]
  },
  {
   "source": [
    "### Android popular apps\n",
    "Unlike App Store data, our Android data set provided number of installs. This data will be used in our analysis to find which genre has the most installs."
   ],
   "cell_type": "markdown",
   "metadata": {}
  },
  {
   "cell_type": "code",
   "execution_count": 42,
   "metadata": {},
   "outputs": [
    {
     "output_type": "stream",
     "name": "stdout",
     "text": [
      "1\n",
      "5\n"
     ]
    }
   ],
   "source": [
    "print(android_header.index(\"Category\"))\n",
    "print(android_header.index(\"Installs\"))"
   ]
  },
  {
   "cell_type": "code",
   "execution_count": 43,
   "metadata": {},
   "outputs": [
    {
     "output_type": "stream",
     "name": "stdout",
     "text": [
      "['Photo Editor & Candy Camera & Grid & ScrapBook', 'ART_AND_DESIGN', '4.1', '159', '19M', '10,000+', 'Free', '0', 'Everyone', 'Art & Design', 'January 7, 2018', '1.0.0', '4.0.3 and up']\n\n\n['U Launcher Lite – FREE Live Cool Themes, Hide Apps', 'ART_AND_DESIGN', '4.7', '87510', '8.7M', '5,000,000+', 'Free', '0', 'Everyone', 'Art & Design', 'August 1, 2018', '1.2.4', '4.0.3 and up']\n\n\n['Sketch - Draw & Paint', 'ART_AND_DESIGN', '4.5', '215644', '25M', '50,000,000+', 'Free', '0', 'Teen', 'Art & Design', 'June 8, 2018', 'Varies with device', '4.2 and up']\n\n\n"
     ]
    }
   ],
   "source": [
    "explore_data(android_eng_free_apps, 0, 3)"
   ]
  },
  {
   "source": [
    "From slices of data above, the number of installs are open-ended. For example:\n",
    "\n",
    "- *Photo Editor & Candy Camera & Grid & ScrapBook* has 10,000+ installs.\n",
    "- *U Launcher Lite – FREE Live Cool Themes, Hide Apps* has 5,000,000+ installs.\n",
    "- *Sketch - Draw & Paint* has 50,000,000+ installs.\n",
    "\n",
    "As we don't have more precise numbers, 10,000+ installs will be deemed as 10,000 installs. 5,000,000+ will be deemed as 5,000,000 installs, and so on. These data will need to be converted to a float. The \"+\" and \",\" need to be removed. "
   ],
   "cell_type": "markdown",
   "metadata": {}
  },
  {
   "cell_type": "code",
   "execution_count": 44,
   "metadata": {},
   "outputs": [
    {
     "output_type": "stream",
     "name": "stdout",
     "text": [
      "COMMUNICATION : 38,590,581.0874\n",
      "VIDEO_PLAYERS : 24,727,872.4528\n",
      "SOCIAL : 23,253,652.1271\n",
      "PHOTOGRAPHY : 17,840,110.4023\n",
      "PRODUCTIVITY : 16,787,331.3449\n",
      "GAME : 15,544,014.5105\n",
      "TRAVEL_AND_LOCAL : 13,984,077.7101\n",
      "ENTERTAINMENT : 11,640,705.8824\n",
      "TOOLS : 10,830,251.9706\n",
      "NEWS_AND_MAGAZINES : 9,549,178.4677\n",
      "BOOKS_AND_REFERENCE : 8,814,199.7884\n",
      "SHOPPING : 7,036,877.3116\n",
      "PERSONALIZATION : 5,201,482.6122\n",
      "WEATHER : 5,145,550.2857\n",
      "HEALTH_AND_FITNESS : 4,188,821.9853\n",
      "MAPS_AND_NAVIGATION : 4,049,274.6341\n",
      "FAMILY : 3,695,641.8198\n",
      "SPORTS : 3,650,602.2767\n",
      "ART_AND_DESIGN : 1,986,335.0877\n",
      "FOOD_AND_DRINK : 1,924,897.7364\n",
      "EDUCATION : 1,833,495.1456\n",
      "BUSINESS : 1,712,290.1474\n",
      "LIFESTYLE : 1,446,158.2238\n",
      "FINANCE : 1,387,692.4756\n",
      "HOUSE_AND_HOME : 1,360,598.0423\n",
      "DATING : 854,028.8303\n",
      "COMICS : 832,613.8889\n",
      "AUTO_AND_VEHICLES : 647,317.8171\n",
      "LIBRARIES_AND_DEMO : 638,503.7349\n",
      "PARENTING : 542,603.6207\n",
      "BEAUTY : 513,151.8868\n",
      "EVENTS : 253,542.2222\n",
      "MEDICAL : 120,550.6198\n"
     ]
    }
   ],
   "source": [
    "# Find average number of installs in each category\n",
    "android_eng_free_genre = freq_table(android_eng_free_apps, 1)\n",
    "android_ef_genre_sorted = {}\n",
    "\n",
    "for genre in android_eng_free_genre:\n",
    "    total = 0\n",
    "    len_genre = 0\n",
    "    for app in android_eng_free_apps:\n",
    "        genre_app = app[1]\n",
    "        if genre_app == genre:\n",
    "            installs = app[5]\n",
    "            installs = installs.replace(\"+\", \"\")\n",
    "            installs = installs.replace(\",\", \"\")\n",
    "            installs = float(installs)\n",
    "            total += installs\n",
    "            len_genre += 1\n",
    "    avg_user = total / len_genre\n",
    "    android_ef_genre_sorted.setdefault(genre, avg_user)\n",
    "\n",
    "display_table(android_ef_genre_sorted)"
   ]
  },
  {
   "source": [
    "On Google Play, communication apps have the highest number of installs, followed by video players apps and social apps. However, the figures of these categories are heavily skewed by very popular apps with 100,000,000+ to 1,000,000,000+ installs. For example, WhatsApp Messenger, Google Duo, Youtube, VLC for Android, Facebook, and Tumblr."
   ],
   "cell_type": "markdown",
   "metadata": {}
  },
  {
   "cell_type": "code",
   "execution_count": 45,
   "metadata": {},
   "outputs": [
    {
     "output_type": "stream",
     "name": "stdout",
     "text": [
      "WhatsApp Messenger : 1,000,000,000+\nMessenger for SMS : 10,000,000+\nMy Tele2 : 5,000,000+\nimo beta free calls and text : 100,000,000+\nContacts : 50,000,000+\nCall Free – Free Call : 5,000,000+\nWeb Browser & Explorer : 5,000,000+\nBrowser 4G : 10,000,000+\nMegaFon Dashboard : 10,000,000+\nZenUI Dialer & Contacts : 10,000,000+\nCricket Visual Voicemail : 10,000,000+\nTracFone My Account : 1,000,000+\nXperia Link™ : 10,000,000+\nTouchPal Keyboard - Fun Emoji & Android Keyboard : 10,000,000+\nSkype Lite - Free Video Call & Chat : 5,000,000+\nMy magenta : 1,000,000+\nAndroid Messages : 100,000,000+\nGoogle Duo - High Quality Video Calls : 500,000,000+\nSeznam.cz : 1,000,000+\nAntillean Gold Telegram (original version) : 100,000+\n"
     ]
    }
   ],
   "source": [
    "# Exploring each genre\n",
    "android_Commu = []\n",
    "\n",
    "for row in android_eng_free_apps:\n",
    "    if row[1] == \"COMMUNICATION\":\n",
    "        android_Commu.append(row)\n",
    "\n",
    "for app in android_Commu[0:20]:\n",
    "    print(f\"{app[0]} : {(app[5])}\")"
   ]
  },
  {
   "cell_type": "code",
   "execution_count": 46,
   "metadata": {},
   "outputs": [
    {
     "output_type": "stream",
     "name": "stdout",
     "text": [
      "YouTube : 1,000,000,000+\nAll Video Downloader 2018 : 1,000,000+\nVideo Downloader : 10,000,000+\nHD Video Player : 1,000,000+\nIqiyi (for tablet) : 1,000,000+\nVideo Player All Format : 10,000,000+\nMotorola Gallery : 100,000,000+\nFree TV series : 100,000+\nVideo Player All Format for Android : 500,000+\nVLC for Android : 100,000,000+\nCode : 10,000,000+\nVote for : 50,000,000+\nXX HD Video downloader-Free Video Downloader : 1,000,000+\nOBJECTIVE : 1,000,000+\nMusic - Mp3 Player : 10,000,000+\nHD Movie Video Player : 1,000,000+\nYouCut - Video Editor & Video Maker, No Watermark : 5,000,000+\nVideo Editor,Crop Video,Movie Video,Music,Effects : 1,000,000+\nYouTube Studio : 10,000,000+\nvideo player for android : 10,000,000+\n"
     ]
    }
   ],
   "source": [
    "# Exploring each genre\n",
    "android_vdo = []\n",
    "\n",
    "for row in android_eng_free_apps:\n",
    "    if row[1] == \"VIDEO_PLAYERS\":\n",
    "        android_vdo.append(row)\n",
    "\n",
    "for app in android_vdo[0:20]:\n",
    "    print(f\"{app[0]} : {(app[5])}\")"
   ]
  },
  {
   "cell_type": "code",
   "execution_count": 47,
   "metadata": {},
   "outputs": [
    {
     "output_type": "stream",
     "name": "stdout",
     "text": [
      "Facebook : 1,000,000,000+\nFacebook Lite : 500,000,000+\nTumblr : 100,000,000+\nSocial network all in one 2018 : 100,000+\nPinterest : 100,000,000+\nTextNow - free text + calls : 10,000,000+\nGoogle+ : 1,000,000,000+\nThe Messenger App : 1,000,000+\nMessenger Pro : 1,000,000+\nFree Messages, Video, Chat,Text for Messenger Plus : 1,000,000+\nTelegram X : 5,000,000+\nThe Video Messenger App : 100,000+\nJodel - The Hyperlocal App : 1,000,000+\nHide Something - Photo, Video : 5,000,000+\nLove Sticker : 1,000,000+\nWeb Browser & Fast Explorer : 5,000,000+\nLiveMe - Video chat, new friends, and make money : 10,000,000+\nVidStatus app - Status Videos & Status Downloader : 5,000,000+\nLove Images : 1,000,000+\nWeb Browser ( Fast & Secure Web Explorer) : 500,000+\n"
     ]
    }
   ],
   "source": [
    "# Exploring each genre\n",
    "android_social = []\n",
    "\n",
    "for row in android_eng_free_apps:\n",
    "    if row[1] == \"SOCIAL\":\n",
    "        android_social.append(row)\n",
    "\n",
    "for app in android_social[0:20]:\n",
    "    print(f\"{app[0]} : {(app[5])}\")"
   ]
  },
  {
   "cell_type": "code",
   "execution_count": 48,
   "metadata": {},
   "outputs": [
    {
     "output_type": "stream",
     "name": "stdout",
     "text": [
      "Complete Spanish Movies : 1,000,000+\nPluto TV - It’s Free TV : 1,000,000+\nMobile TV : 10,000,000+\nTV+ : 5,000,000+\nDigital TV : 5,000,000+\nMotorola Spotlight Player™ : 10,000,000+\nVigo Lite : 5,000,000+\nHotstar : 100,000,000+\nPeers.TV: broadcast TV channels First, Match TV, TNT ... : 5,000,000+\nThe green alien dance : 1,000,000+\nSpectrum TV : 5,000,000+\nH TV : 5,000,000+\nStarTimes - Live International Champions Cup : 1,000,000+\nCinematic Cinematic : 1,000,000+\nMEGOGO - Cinema and TV : 10,000,000+\nTalking Angela : 100,000,000+\nDStv Now : 5,000,000+\nivi - movies and TV shows in HD : 10,000,000+\nRadio Javan : 1,000,000+\nTalking Ginger 2 : 50,000,000+\nGirly Lock Screen Wallpaper with Quotes : 5,000,000+\n🔥 Football Wallpapers 4K | Full HD Backgrounds 😍 : 1,000,000+\nMovies by Flixster, with Rotten Tomatoes : 10,000,000+\nLow Poly – Puzzle art game : 1,000,000+\nBBC Media Player : 10,000,000+\nAmazon Prime Video : 50,000,000+\nAdult Glitter Color by Number Book - Sandbox Pages : 1,000,000+\nIMDb Movies & TV : 100,000,000+\nTwitch: Livestream Multiplayer Games & Esports : 50,000,000+\nZiggo GO : 1,000,000+\n"
     ]
    }
   ],
   "source": [
    "# Exploring each genre\n",
    "android_entertainment = []\n",
    "\n",
    "for row in android_eng_free_apps:\n",
    "    if row[1] == \"ENTERTAINMENT\":\n",
    "        android_entertainment.append(row)\n",
    "\n",
    "for app in android_entertainment[0:30]:\n",
    "    print(f\"{app[0]} : {(app[5])}\")"
   ]
  },
  {
   "source": [
    "Next, we take a look at the (adult) coloring book as we see some potential from the iOS data. The coloring books are under different categories. Although there are many free coloring books, but they are under *Family* category, which is for kids. The adult coloring books are mainly in *Entertainment* and there aren't many of them. Most popular apps in *Entertainment* are streaming apps or TV apps. The company could introduce a new adult coloring book app to the market and grab some market share."
   ],
   "cell_type": "markdown",
   "metadata": {}
  },
  {
   "cell_type": "code",
   "execution_count": 49,
   "metadata": {},
   "outputs": [
    {
     "output_type": "stream",
     "name": "stdout",
     "text": [
      "ART_AND_DESIGN >> Pixel Draw - Number Art Coloring Book : 100,000+\nART_AND_DESIGN >> Garden Coloring Book : 1,000,000+\nART_AND_DESIGN >> Mandala Coloring Book : 100,000+\nART_AND_DESIGN >> 3D Color Pixel by Number - Sandbox Art Coloring : 100,000+\nART_AND_DESIGN >> Colorfit - Drawing & Coloring : 500,000+\nART_AND_DESIGN >> Anime Manga Coloring Book : 100,000+\nART_AND_DESIGN >> How To Color Disney Princess - Coloring Pages : 500,000+\nBEAUTY >> Colors of white in Urdu : 10,000+\nBEAUTY >> Discover Color : 100,000+\nCOMICS >> Unicorn Pokez - Color By Number : 50,000+\nEDUCATION >> Dinosaurs Coloring Pages : 500,000+\nEDUCATION >> Cars Coloring Pages : 1,000,000+\nENTERTAINMENT >> Adult Glitter Color by Number Book - Sandbox Pages : 1,000,000+\nENTERTAINMENT >> ColorFul - Adult Coloring Book : 5,000,000+\nENTERTAINMENT >> Colorfy: Coloring Book for Adults - Free : 10,000,000+\nHOUSE_AND_HOME >> ColorSnap® Visualizer : 1,000,000+\nGAME >> Color Road : 10,000,000+\nGAME >> Pixel Art: Color by Number Game : 10,000,000+\nFAMILY >> Coloring & Learn : 5,000,000+\nFAMILY >> Princess Coloring Book : 5,000,000+\nFAMILY >> Coloring book moana : 500,000+\nFAMILY >> No. Color - Color by Number, Number Coloring : 10,000,000+\nFAMILY >> Draw.ly - Color by Number Pixel Art Coloring : 1,000,000+\nFAMILY >> No.Draw - Colors by Number 2018 : 10,000,000+\nFAMILY >> Mcqueen Coloring pages : 100,000+\nFAMILY >> Crazy Colors: Bubbles Matching : 100,000+\nMEDICAL >> Dermatology Atlas (Colored & Illustrative) : 100+\nPHOTOGRAPHY >> Color Touch Effects : 10,000,000+\nTOOLS >> Color Flashlight : 50,000,000+\nPERSONALIZATION >> Color Call - Caller Screen, LED Flash : 1,000,000+\nPERSONALIZATION >> Colorful Glitter Neon Butterfly Keyboard Theme : 500,000+\nPRODUCTIVITY >> ColorNote Notepad Notes : 100,000,000+\nFAMILY >> Color by Number - Draw Sandbox Pixel Art : 1,000,000+\nGAME >> Crayola Color Blaster : 1,000+\nFAMILY >> Coloring Book at Five Nights : 100,000+\nGAME >> Color by Number – New Coloring Book : 5,000,000+\nFAMILY >> Adult Color By Number Book: Number Coloring Pages : 500,000+\nFAMILY >> Glitter Color By Number - Glitter Number Coloring : 500,000+\nFAMILY >> Sandbox - Color by Number Coloring Pages : 10,000,000+\nFAMILY >> Sandbox Art-Sandbox Color by Number Coloring Pages : 1,000,000+\nFAMILY >> Art Pixel Coloring. Color by Number. : 100,000+\nFAMILY >> Color By Number - Sandbox Pixel Coloring Book : 1,000,000+\nFAMILY >> PixelDot - Color by Number Sandbox Pixel Art : 1,000,000+\nFAMILY >> PixPanda - Color by Number Pixel Art Coloring Book : 1,000,000+\nFAMILY >> Sandbox Number Coloring Book Art - Color By Number : 1,000,000+\nFAMILY >> Adult Color by Number Book - Paint Mandala Pages : 100,000+\nFAMILY >> No.Color – Color by Number : 5,000,000+\nFAMILY >> PixBox Coloring - Color by number Sandbox : 1,000,000+\nFAMILY >> 3D Color by Number: Voxel, Unicorn, Pixel Art 3D : 100,000+\nFAMILY >> Pixelmania - Color by number & create pixel art : 500,000+\nFAMILY >> Valentines love color by number-Pixel art coloring : 100,000+\nFAMILY >> Rized ‼️ Color By Number & Pixel Coloring Book : 100,000+\nFAMILY >> Pixyfy: coloring by number coloring book : 500,000+\nFAMILY >> Draw Color by Number - Sandbox Pixel Art : 1,000,000+\nFAMILY >> Tattoo Color By Number Draw Book Page Pixel Art : 100,000+\nFAMILY >> Color by Disney : 500,000+\nFAMILY >> 3D Color by Number with Voxels : 500,000+\nFAMILY >> Butterfly Pixel Art - coloring by number : 100,000+\nFAMILY >> Halloween Sandbox Number Coloring- Color By Number : 100,000+\nFAMILY >> Poly Art: Paint by Sticker, Color by Number Puzzle : 100,000+\nFAMILY >> Color by Number: Pixel Art : 1,000,000+\nFAMILY >> UNICORN - Color By Number & Pixel Art Coloring : 500,000+\nFAMILY >> FunnyPixels - Color by number Sandbox : 100,000+\nFAMILY >> Color By Numbers - Art Game for Kids and Adults : 100,000+\nGAME >> Voxel - 3D Color by Number & Pixel Coloring Book : 1,000,000+\nFAMILY >> No.Diamond – Colors by Number : 1,000,000+\nLIFESTYLE >> Color CL : 100+\nFAMILY >> Permit Test CO Colorado DMV : 1,000+\nFAMILY >> Color Quartets : 1,000+\nFINANCE >> CU of Colorado Mobile Banking : 10,000+\nFAMILY >> Coloring Book for Me & Mandala : 10,000,000+\nLIFESTYLE >> Notes : Colorful Notepad Note,To Do,Reminder,Memo : 1,000,000+\nSOCIAL >> Pink Color for Facebook : 500,000+\nFAMILY >> Dolphin and fish coloring book : 500,000+\n"
     ]
    }
   ],
   "source": [
    "# Exploring potential for adult coloring book app in Play Store\n",
    "for row in android_eng_free_apps:\n",
    "    if \"color\" in row[0] or \"Color\" in row[0] or \"COLOR\" in row[0]:\n",
    "        print(f\"{row[1]} >> {row[0]} : {(row[5])}\")"
   ]
  },
  {
   "source": [
    "# Conclusion\n",
    "This project is to analyze the app profiles that are profitable for both App Store and Google Play Store. \n",
    "\n",
    "We conclude that adult coloring books could be profitable in both stores. The category/genre is not yet dominated by certain companies. The market is also not too niche. The adult coloring books also offer flexibility to the company as we could expand our revenue model to offering in-app purchases, either to remove ads, more colors, or more pictures."
   ],
   "cell_type": "markdown",
   "metadata": {}
  }
 ]
}