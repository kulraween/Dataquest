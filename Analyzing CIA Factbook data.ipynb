{
 "metadata": {
  "language_info": {
   "codemirror_mode": {
    "name": "ipython",
    "version": 3
   },
   "file_extension": ".py",
   "mimetype": "text/x-python",
   "name": "python",
   "nbconvert_exporter": "python",
   "pygments_lexer": "ipython3",
   "version": "3.9.2"
  },
  "orig_nbformat": 2,
  "kernelspec": {
   "name": "python392jvsc74a57bd042ffdba7f0de544957ef69efdb450b60517fb3f2f7c6065358c1f9d2622fefe6",
   "display_name": "Python 3.9.2 64-bit"
  },
  "metadata": {
   "interpreter": {
    "hash": "42ffdba7f0de544957ef69efdb450b60517fb3f2f7c6065358c1f9d2622fefe6"
   }
  }
 },
 "nbformat": 4,
 "nbformat_minor": 2,
 "cells": [
  {
   "source": [
    "# Analyzing CIA Factbook data using SQL\n",
    "\n",
    "The <a href='https://www.cia.gov/the-world-factbook/'>CIA World factbook</a> contains information about countries in the world. The information includes, but is not limited to, brief background history, geography, government, and population. This project is to analyze data in this database using SQL. The data dictionary is provided in the table below.\n",
    "\n",
    "| Field name | Description |\n",
    "|:-----------|:------------|\n",
    "| id | Identification number of each country |\n",
    "| code | Country code |\n",
    "| name | Country name |\n",
    "| area | Area of the country in square kilometre |\n",
    "| area_land | Land area of the country in square kilometre |\n",
    "| area_water | Inland water area of the country in square kilometre |\n",
    "| population | Population of the country (unit: person)|\n",
    "| population_growth | Population's growth rate of the country in percentage |\n",
    "| birth_rate | Birth rate of the country per year per 1,000 people |\n",
    "| death_rate | Death rate of the country per year per 1,000 people |\n",
    "| migration_rate | Net migration rate of the country per year per 1,000 people/n(Positive means people entering the country more than people leaving the country.) |"
   ],
   "cell_type": "markdown",
   "metadata": {}
  },
  {
   "source": [
    "## Connecting the database"
   ],
   "cell_type": "markdown",
   "metadata": {}
  },
  {
   "cell_type": "code",
   "execution_count": 1,
   "metadata": {},
   "outputs": [],
   "source": [
    "%%capture\n",
    "%load_ext sql\n",
    "%sql sqlite:///factbook.db"
   ]
  },
  {
   "cell_type": "code",
   "execution_count": 2,
   "metadata": {},
   "outputs": [
    {
     "output_type": "stream",
     "name": "stdout",
     "text": [
      " * sqlite:///factbook.db\nDone.\n"
     ]
    },
    {
     "output_type": "execute_result",
     "data": {
      "text/plain": [
       "[('table', 'sqlite_sequence', 'sqlite_sequence', 3, 'CREATE TABLE sqlite_sequence(name,seq)'),\n",
       " ('table', 'facts', 'facts', 47, 'CREATE TABLE \"facts\" (\"id\" INTEGER PRIMARY KEY AUTOINCREMENT NOT NULL, \"code\" varchar(255) NOT NULL, \"name\" varchar(255) NOT NULL, \"area\" integer, \"a ... (4 characters truncated) ... land\" integer, \"area_water\" integer, \"population\" integer, \"population_growth\" float, \"birth_rate\" float, \"death_rate\" float, \"migration_rate\" float)')]"
      ],
      "text/html": "<table>\n    <tr>\n        <th>type</th>\n        <th>name</th>\n        <th>tbl_name</th>\n        <th>rootpage</th>\n        <th>sql</th>\n    </tr>\n    <tr>\n        <td>table</td>\n        <td>sqlite_sequence</td>\n        <td>sqlite_sequence</td>\n        <td>3</td>\n        <td>CREATE TABLE sqlite_sequence(name,seq)</td>\n    </tr>\n    <tr>\n        <td>table</td>\n        <td>facts</td>\n        <td>facts</td>\n        <td>47</td>\n        <td>CREATE TABLE &quot;facts&quot; (&quot;id&quot; INTEGER PRIMARY KEY AUTOINCREMENT NOT NULL, &quot;code&quot; varchar(255) NOT NULL, &quot;name&quot; varchar(255) NOT NULL, &quot;area&quot; integer, &quot;area_land&quot; integer, &quot;area_water&quot; integer, &quot;population&quot; integer, &quot;population_growth&quot; float, &quot;birth_rate&quot; float, &quot;death_rate&quot; float, &quot;migration_rate&quot; float)</td>\n    </tr>\n</table>"
     },
     "metadata": {},
     "execution_count": 2
    }
   ],
   "source": [
    "%%sql\n",
    "\n",
    "/* Overview of tables in our factbook database. */\n",
    "    \n",
    "SELECT *\n",
    "  FROM sqlite_master\n",
    " WHERE type='table';"
   ]
  },
  {
   "cell_type": "code",
   "execution_count": 3,
   "metadata": {},
   "outputs": [
    {
     "output_type": "stream",
     "name": "stdout",
     "text": [
      " * sqlite:///factbook.db\nDone.\n"
     ]
    },
    {
     "output_type": "execute_result",
     "data": {
      "text/plain": [
       "[(1, 'af', 'Afghanistan', 652230, 652230, 0, 32564342, 2.32, 38.57, 13.89, 1.51),\n",
       " (2, 'al', 'Albania', 28748, 27398, 1350, 3029278, 0.3, 12.92, 6.58, 3.3),\n",
       " (3, 'ag', 'Algeria', 2381741, 2381741, 0, 39542166, 1.84, 23.67, 4.31, 0.92),\n",
       " (4, 'an', 'Andorra', 468, 468, 0, 85580, 0.12, 8.13, 6.96, 0.0),\n",
       " (5, 'ao', 'Angola', 1246700, 1246700, 0, 19625353, 2.78, 38.78, 11.49, 0.46)]"
      ],
      "text/html": "<table>\n    <tr>\n        <th>id</th>\n        <th>code</th>\n        <th>name</th>\n        <th>area</th>\n        <th>area_land</th>\n        <th>area_water</th>\n        <th>population</th>\n        <th>population_growth</th>\n        <th>birth_rate</th>\n        <th>death_rate</th>\n        <th>migration_rate</th>\n    </tr>\n    <tr>\n        <td>1</td>\n        <td>af</td>\n        <td>Afghanistan</td>\n        <td>652230</td>\n        <td>652230</td>\n        <td>0</td>\n        <td>32564342</td>\n        <td>2.32</td>\n        <td>38.57</td>\n        <td>13.89</td>\n        <td>1.51</td>\n    </tr>\n    <tr>\n        <td>2</td>\n        <td>al</td>\n        <td>Albania</td>\n        <td>28748</td>\n        <td>27398</td>\n        <td>1350</td>\n        <td>3029278</td>\n        <td>0.3</td>\n        <td>12.92</td>\n        <td>6.58</td>\n        <td>3.3</td>\n    </tr>\n    <tr>\n        <td>3</td>\n        <td>ag</td>\n        <td>Algeria</td>\n        <td>2381741</td>\n        <td>2381741</td>\n        <td>0</td>\n        <td>39542166</td>\n        <td>1.84</td>\n        <td>23.67</td>\n        <td>4.31</td>\n        <td>0.92</td>\n    </tr>\n    <tr>\n        <td>4</td>\n        <td>an</td>\n        <td>Andorra</td>\n        <td>468</td>\n        <td>468</td>\n        <td>0</td>\n        <td>85580</td>\n        <td>0.12</td>\n        <td>8.13</td>\n        <td>6.96</td>\n        <td>0.0</td>\n    </tr>\n    <tr>\n        <td>5</td>\n        <td>ao</td>\n        <td>Angola</td>\n        <td>1246700</td>\n        <td>1246700</td>\n        <td>0</td>\n        <td>19625353</td>\n        <td>2.78</td>\n        <td>38.78</td>\n        <td>11.49</td>\n        <td>0.46</td>\n    </tr>\n</table>"
     },
     "metadata": {},
     "execution_count": 3
    }
   ],
   "source": [
    "%%sql\n",
    "\n",
    "/* Overview of data in facts table. */\n",
    "\n",
    "SELECT *\n",
    "  FROM facts\n",
    " LIMIT 5;"
   ]
  },
  {
   "source": [
    "## Data overview\n",
    "\n",
    "Prior to the analysis, we will check if there are any outliers and determine whether those outliers should be included in our analysis."
   ],
   "cell_type": "markdown",
   "metadata": {}
  },
  {
   "cell_type": "code",
   "execution_count": 4,
   "metadata": {},
   "outputs": [
    {
     "output_type": "stream",
     "name": "stdout",
     "text": [
      " * sqlite:///factbook.db\nDone.\n"
     ]
    },
    {
     "output_type": "execute_result",
     "data": {
      "text/plain": [
       "[(0, 17098242, 0, 16377742, 0, 7256490011, 0.0, 4.02)]"
      ],
      "text/html": "<table>\n    <tr>\n        <th>min_area</th>\n        <th>max_area</th>\n        <th>min_area_land</th>\n        <th>max_area_land</th>\n        <th>min_pop</th>\n        <th>max_pop</th>\n        <th>min_pop_growth</th>\n        <th>max_pop_growth</th>\n    </tr>\n    <tr>\n        <td>0</td>\n        <td>17098242</td>\n        <td>0</td>\n        <td>16377742</td>\n        <td>0</td>\n        <td>7256490011</td>\n        <td>0.0</td>\n        <td>4.02</td>\n    </tr>\n</table>"
     },
     "metadata": {},
     "execution_count": 4
    }
   ],
   "source": [
    "%%sql\n",
    "\n",
    "SELECT MIN(area) AS min_area,\n",
    "       MAX(area) AS max_area,\n",
    "       MIN(area_land) AS min_area_land,\n",
    "       MAX(area_land) AS max_area_land,\n",
    "       MIN(population) AS min_pop,\n",
    "       MAX(population) AS max_pop, \n",
    "       MIN(population_growth) AS min_pop_growth, \n",
    "       MAX(population_growth) AS max_pop_growth\n",
    "  FROM facts;"
   ]
  },
  {
   "source": [
    "From the statistics above, there are 3 points that seem unrealistic. \n",
    "\n",
    "1. there are one (or more countries) with a total area (or land area) of zero,\n",
    "2. there are one (or more countries) with a population of zero, and\n",
    "3. there are one (or more countries) with a population of more than 7 billion people.\n",
    "\n",
    "These seem odd as a country should have an area and some populations, whereas a population of 7 billion people is too high. We'll dig down further to identify the countries and check whether these data are valid."
   ],
   "cell_type": "markdown",
   "metadata": {}
  },
  {
   "cell_type": "code",
   "execution_count": 5,
   "metadata": {},
   "outputs": [
    {
     "output_type": "stream",
     "name": "stdout",
     "text": [
      " * sqlite:///factbook.db\nDone.\n"
     ]
    },
    {
     "output_type": "execute_result",
     "data": {
      "text/plain": [
       "[(35, 'cd', 'Chad', None, 1259200, 24800, 11631456, 1.89, 36.6, 14.28, 3.45),\n",
       " (58, 'et', 'Ethiopia', 1104300, None, 104300, 99465819, 2.89, 37.27, 8.19, 0.22),\n",
       " (128, 'ng', 'Niger', None, 1266700, 300, 18045729, 3.25, 45.45, 12.42, 0.56),\n",
       " (162, 'od', 'South Sudan', 644329, None, None, 12042910, 4.02, 36.91, 8.18, 11.47),\n",
       " (165, 'su', 'Sudan', 1861484, None, None, 36108853, 1.72, 29.19, 7.66, 4.29),\n",
       " (190, 'vt', 'Holy See (Vatican City)', 0, 0, 0, 842, 0.0, None, None, None),\n",
       " (197, 'ee', 'European Union', 4324782, None, None, 513949445, 0.25, 10.2, 10.2, 2.5),\n",
       " (210, 'fs', 'French Southern and Antarctic Lands', None, None, None, None, None, None, None, None),\n",
       " (212, 'tb', 'Saint Barthelemy', None, None, None, 7237, None, None, None, None),\n",
       " (225, 'ax', 'Akrotiri', 123, None, None, 15700, None, None, None, None),\n",
       " (231, 'dx', 'Dhekelia', 130, None, None, 15700, None, None, None, None),\n",
       " (249, 'um', 'United States Pacific Island Wildlife Refuges', None, None, None, None, None, None, None, None),\n",
       " (250, 'ay', 'Antarctica', None, 280000, None, 0, None, None, None, None),\n",
       " (256, 'xq', 'Arctic Ocean', None, None, None, None, None, None, None, None),\n",
       " (257, 'zh', 'Atlantic Ocean', None, None, None, None, None, None, None, None),\n",
       " (258, 'xo', 'Indian Ocean', None, None, None, None, None, None, None, None),\n",
       " (259, 'zn', 'Pacific Ocean', None, None, None, None, None, None, None, None),\n",
       " (260, 'oo', 'Southern Ocean', None, None, None, None, None, None, None, None),\n",
       " (261, 'xx', 'World', None, None, None, 7256490011, 1.08, 18.6, 7.8, None)]"
      ],
      "text/html": "<table>\n    <tr>\n        <th>id</th>\n        <th>code</th>\n        <th>name</th>\n        <th>area</th>\n        <th>area_land</th>\n        <th>area_water</th>\n        <th>population</th>\n        <th>population_growth</th>\n        <th>birth_rate</th>\n        <th>death_rate</th>\n        <th>migration_rate</th>\n    </tr>\n    <tr>\n        <td>35</td>\n        <td>cd</td>\n        <td>Chad</td>\n        <td>None</td>\n        <td>1259200</td>\n        <td>24800</td>\n        <td>11631456</td>\n        <td>1.89</td>\n        <td>36.6</td>\n        <td>14.28</td>\n        <td>3.45</td>\n    </tr>\n    <tr>\n        <td>58</td>\n        <td>et</td>\n        <td>Ethiopia</td>\n        <td>1104300</td>\n        <td>None</td>\n        <td>104300</td>\n        <td>99465819</td>\n        <td>2.89</td>\n        <td>37.27</td>\n        <td>8.19</td>\n        <td>0.22</td>\n    </tr>\n    <tr>\n        <td>128</td>\n        <td>ng</td>\n        <td>Niger</td>\n        <td>None</td>\n        <td>1266700</td>\n        <td>300</td>\n        <td>18045729</td>\n        <td>3.25</td>\n        <td>45.45</td>\n        <td>12.42</td>\n        <td>0.56</td>\n    </tr>\n    <tr>\n        <td>162</td>\n        <td>od</td>\n        <td>South Sudan</td>\n        <td>644329</td>\n        <td>None</td>\n        <td>None</td>\n        <td>12042910</td>\n        <td>4.02</td>\n        <td>36.91</td>\n        <td>8.18</td>\n        <td>11.47</td>\n    </tr>\n    <tr>\n        <td>165</td>\n        <td>su</td>\n        <td>Sudan</td>\n        <td>1861484</td>\n        <td>None</td>\n        <td>None</td>\n        <td>36108853</td>\n        <td>1.72</td>\n        <td>29.19</td>\n        <td>7.66</td>\n        <td>4.29</td>\n    </tr>\n    <tr>\n        <td>190</td>\n        <td>vt</td>\n        <td>Holy See (Vatican City)</td>\n        <td>0</td>\n        <td>0</td>\n        <td>0</td>\n        <td>842</td>\n        <td>0.0</td>\n        <td>None</td>\n        <td>None</td>\n        <td>None</td>\n    </tr>\n    <tr>\n        <td>197</td>\n        <td>ee</td>\n        <td>European Union</td>\n        <td>4324782</td>\n        <td>None</td>\n        <td>None</td>\n        <td>513949445</td>\n        <td>0.25</td>\n        <td>10.2</td>\n        <td>10.2</td>\n        <td>2.5</td>\n    </tr>\n    <tr>\n        <td>210</td>\n        <td>fs</td>\n        <td>French Southern and Antarctic Lands</td>\n        <td>None</td>\n        <td>None</td>\n        <td>None</td>\n        <td>None</td>\n        <td>None</td>\n        <td>None</td>\n        <td>None</td>\n        <td>None</td>\n    </tr>\n    <tr>\n        <td>212</td>\n        <td>tb</td>\n        <td>Saint Barthelemy</td>\n        <td>None</td>\n        <td>None</td>\n        <td>None</td>\n        <td>7237</td>\n        <td>None</td>\n        <td>None</td>\n        <td>None</td>\n        <td>None</td>\n    </tr>\n    <tr>\n        <td>225</td>\n        <td>ax</td>\n        <td>Akrotiri</td>\n        <td>123</td>\n        <td>None</td>\n        <td>None</td>\n        <td>15700</td>\n        <td>None</td>\n        <td>None</td>\n        <td>None</td>\n        <td>None</td>\n    </tr>\n    <tr>\n        <td>231</td>\n        <td>dx</td>\n        <td>Dhekelia</td>\n        <td>130</td>\n        <td>None</td>\n        <td>None</td>\n        <td>15700</td>\n        <td>None</td>\n        <td>None</td>\n        <td>None</td>\n        <td>None</td>\n    </tr>\n    <tr>\n        <td>249</td>\n        <td>um</td>\n        <td>United States Pacific Island Wildlife Refuges</td>\n        <td>None</td>\n        <td>None</td>\n        <td>None</td>\n        <td>None</td>\n        <td>None</td>\n        <td>None</td>\n        <td>None</td>\n        <td>None</td>\n    </tr>\n    <tr>\n        <td>250</td>\n        <td>ay</td>\n        <td>Antarctica</td>\n        <td>None</td>\n        <td>280000</td>\n        <td>None</td>\n        <td>0</td>\n        <td>None</td>\n        <td>None</td>\n        <td>None</td>\n        <td>None</td>\n    </tr>\n    <tr>\n        <td>256</td>\n        <td>xq</td>\n        <td>Arctic Ocean</td>\n        <td>None</td>\n        <td>None</td>\n        <td>None</td>\n        <td>None</td>\n        <td>None</td>\n        <td>None</td>\n        <td>None</td>\n        <td>None</td>\n    </tr>\n    <tr>\n        <td>257</td>\n        <td>zh</td>\n        <td>Atlantic Ocean</td>\n        <td>None</td>\n        <td>None</td>\n        <td>None</td>\n        <td>None</td>\n        <td>None</td>\n        <td>None</td>\n        <td>None</td>\n        <td>None</td>\n    </tr>\n    <tr>\n        <td>258</td>\n        <td>xo</td>\n        <td>Indian Ocean</td>\n        <td>None</td>\n        <td>None</td>\n        <td>None</td>\n        <td>None</td>\n        <td>None</td>\n        <td>None</td>\n        <td>None</td>\n        <td>None</td>\n    </tr>\n    <tr>\n        <td>259</td>\n        <td>zn</td>\n        <td>Pacific Ocean</td>\n        <td>None</td>\n        <td>None</td>\n        <td>None</td>\n        <td>None</td>\n        <td>None</td>\n        <td>None</td>\n        <td>None</td>\n        <td>None</td>\n    </tr>\n    <tr>\n        <td>260</td>\n        <td>oo</td>\n        <td>Southern Ocean</td>\n        <td>None</td>\n        <td>None</td>\n        <td>None</td>\n        <td>None</td>\n        <td>None</td>\n        <td>None</td>\n        <td>None</td>\n        <td>None</td>\n    </tr>\n    <tr>\n        <td>261</td>\n        <td>xx</td>\n        <td>World</td>\n        <td>None</td>\n        <td>None</td>\n        <td>None</td>\n        <td>7256490011</td>\n        <td>1.08</td>\n        <td>18.6</td>\n        <td>7.8</td>\n        <td>None</td>\n    </tr>\n</table>"
     },
     "metadata": {},
     "execution_count": 5
    }
   ],
   "source": [
    "%%sql\n",
    "\n",
    "/* Select countries where (land) area is zero or null. */  \n",
    "\n",
    "SELECT *\n",
    "  FROM facts\n",
    " WHERE area == 0\n",
    "    OR area IS NULL\n",
    "    OR area_land == 0\n",
    "    OR area_land IS NULL;"
   ]
  },
  {
   "source": [
    "Per table above, we could group the missing data into 2 groups: missing only total area, and missing either or all of the area-related fields.\n",
    "\n",
    "| Issue | Countries (example) | Solution |\n",
    "|-------|-----------|----------|\n",
    "| Missing only total area | Chad, Niger, and Antartica | To calculate total area based on provided land and water area data |\n",
    "| Missing total area and/or land area and/or water area | Ethiopia, South Sudan, Sudan, Akrotiri, and Dhekelia | To check the data in CIA factbook website and update in the table. |\n",
    "\n",
    "\n",
    "According to the CIA factbook website, *Saint Barthelemy* has an area of 25 square kilometres. *Ethiopia* has a land area of 1,096,570 square kilometres. *Sudan*'s land area and water area data are also provided on the website. These information will be updated. However, there is no breakdown area data for South Sudan, Akrotiri, and Dhekelia. We will leave them as is for now.\n",
    "\n",
    "In regards to Vatican City, it has an area of 0.44 square kilometre. The figure is rounded down to a whole number, hence 0 square kilometre.\n",
    "\n",
    "![saint_barthelemy_area](pics/saint_barthelemy_area.png)\n",
    "![ethiopia_area](pics/ethiopia_area.png)\n",
    "![sudan_area](pics/sudan_area.png)\n",
    "![vatican_area](pics/vatican_area.png)\n",
    "\n"
   ],
   "cell_type": "markdown",
   "metadata": {}
  },
  {
   "cell_type": "code",
   "execution_count": 6,
   "metadata": {},
   "outputs": [
    {
     "output_type": "stream",
     "name": "stdout",
     "text": [
      " * sqlite:///factbook.db\n",
      "Done.\n",
      "15 rows affected.\n",
      "18 rows affected.\n",
      "Done.\n"
     ]
    },
    {
     "output_type": "execute_result",
     "data": {
      "text/plain": [
       "[(35, 'cd', 'Chad', 0, 1259200, 24800, 11631456, 1.89, 36.6, 14.28, 3.45),\n",
       " (58, 'et', 'Ethiopia', 1104300, 0, 104300, 99465819, 2.89, 37.27, 8.19, 0.22),\n",
       " (128, 'ng', 'Niger', 0, 1266700, 300, 18045729, 3.25, 45.45, 12.42, 0.56),\n",
       " (162, 'od', 'South Sudan', 644329, 0, 0, 12042910, 4.02, 36.91, 8.18, 11.47),\n",
       " (165, 'su', 'Sudan', 1861484, 0, 0, 36108853, 1.72, 29.19, 7.66, 4.29),\n",
       " (190, 'vt', 'Holy See (Vatican City)', 0, 0, 0, 842, 0.0, None, None, None),\n",
       " (197, 'ee', 'European Union', 4324782, 0, 0, 513949445, 0.25, 10.2, 10.2, 2.5),\n",
       " (210, 'fs', 'French Southern and Antarctic Lands', 0, 0, 0, None, None, None, None, None),\n",
       " (212, 'tb', 'Saint Barthelemy', 0, 0, 0, 7237, None, None, None, None),\n",
       " (225, 'ax', 'Akrotiri', 123, 0, 0, 15700, None, None, None, None),\n",
       " (231, 'dx', 'Dhekelia', 130, 0, 0, 15700, None, None, None, None),\n",
       " (249, 'um', 'United States Pacific Island Wildlife Refuges', 0, 0, 0, None, None, None, None, None),\n",
       " (250, 'ay', 'Antarctica', 0, 280000, 0, 0, None, None, None, None),\n",
       " (256, 'xq', 'Arctic Ocean', 0, 0, 0, None, None, None, None, None),\n",
       " (257, 'zh', 'Atlantic Ocean', 0, 0, 0, None, None, None, None, None),\n",
       " (258, 'xo', 'Indian Ocean', 0, 0, 0, None, None, None, None, None),\n",
       " (259, 'zn', 'Pacific Ocean', 0, 0, 0, None, None, None, None, None),\n",
       " (260, 'oo', 'Southern Ocean', 0, 0, 0, None, None, None, None, None),\n",
       " (261, 'xx', 'World', 0, 0, 0, 7256490011, 1.08, 18.6, 7.8, None)]"
      ],
      "text/html": "<table>\n    <tr>\n        <th>id</th>\n        <th>code</th>\n        <th>name</th>\n        <th>area</th>\n        <th>area_land</th>\n        <th>area_water</th>\n        <th>population</th>\n        <th>population_growth</th>\n        <th>birth_rate</th>\n        <th>death_rate</th>\n        <th>migration_rate</th>\n    </tr>\n    <tr>\n        <td>35</td>\n        <td>cd</td>\n        <td>Chad</td>\n        <td>0</td>\n        <td>1259200</td>\n        <td>24800</td>\n        <td>11631456</td>\n        <td>1.89</td>\n        <td>36.6</td>\n        <td>14.28</td>\n        <td>3.45</td>\n    </tr>\n    <tr>\n        <td>58</td>\n        <td>et</td>\n        <td>Ethiopia</td>\n        <td>1104300</td>\n        <td>0</td>\n        <td>104300</td>\n        <td>99465819</td>\n        <td>2.89</td>\n        <td>37.27</td>\n        <td>8.19</td>\n        <td>0.22</td>\n    </tr>\n    <tr>\n        <td>128</td>\n        <td>ng</td>\n        <td>Niger</td>\n        <td>0</td>\n        <td>1266700</td>\n        <td>300</td>\n        <td>18045729</td>\n        <td>3.25</td>\n        <td>45.45</td>\n        <td>12.42</td>\n        <td>0.56</td>\n    </tr>\n    <tr>\n        <td>162</td>\n        <td>od</td>\n        <td>South Sudan</td>\n        <td>644329</td>\n        <td>0</td>\n        <td>0</td>\n        <td>12042910</td>\n        <td>4.02</td>\n        <td>36.91</td>\n        <td>8.18</td>\n        <td>11.47</td>\n    </tr>\n    <tr>\n        <td>165</td>\n        <td>su</td>\n        <td>Sudan</td>\n        <td>1861484</td>\n        <td>0</td>\n        <td>0</td>\n        <td>36108853</td>\n        <td>1.72</td>\n        <td>29.19</td>\n        <td>7.66</td>\n        <td>4.29</td>\n    </tr>\n    <tr>\n        <td>190</td>\n        <td>vt</td>\n        <td>Holy See (Vatican City)</td>\n        <td>0</td>\n        <td>0</td>\n        <td>0</td>\n        <td>842</td>\n        <td>0.0</td>\n        <td>None</td>\n        <td>None</td>\n        <td>None</td>\n    </tr>\n    <tr>\n        <td>197</td>\n        <td>ee</td>\n        <td>European Union</td>\n        <td>4324782</td>\n        <td>0</td>\n        <td>0</td>\n        <td>513949445</td>\n        <td>0.25</td>\n        <td>10.2</td>\n        <td>10.2</td>\n        <td>2.5</td>\n    </tr>\n    <tr>\n        <td>210</td>\n        <td>fs</td>\n        <td>French Southern and Antarctic Lands</td>\n        <td>0</td>\n        <td>0</td>\n        <td>0</td>\n        <td>None</td>\n        <td>None</td>\n        <td>None</td>\n        <td>None</td>\n        <td>None</td>\n    </tr>\n    <tr>\n        <td>212</td>\n        <td>tb</td>\n        <td>Saint Barthelemy</td>\n        <td>0</td>\n        <td>0</td>\n        <td>0</td>\n        <td>7237</td>\n        <td>None</td>\n        <td>None</td>\n        <td>None</td>\n        <td>None</td>\n    </tr>\n    <tr>\n        <td>225</td>\n        <td>ax</td>\n        <td>Akrotiri</td>\n        <td>123</td>\n        <td>0</td>\n        <td>0</td>\n        <td>15700</td>\n        <td>None</td>\n        <td>None</td>\n        <td>None</td>\n        <td>None</td>\n    </tr>\n    <tr>\n        <td>231</td>\n        <td>dx</td>\n        <td>Dhekelia</td>\n        <td>130</td>\n        <td>0</td>\n        <td>0</td>\n        <td>15700</td>\n        <td>None</td>\n        <td>None</td>\n        <td>None</td>\n        <td>None</td>\n    </tr>\n    <tr>\n        <td>249</td>\n        <td>um</td>\n        <td>United States Pacific Island Wildlife Refuges</td>\n        <td>0</td>\n        <td>0</td>\n        <td>0</td>\n        <td>None</td>\n        <td>None</td>\n        <td>None</td>\n        <td>None</td>\n        <td>None</td>\n    </tr>\n    <tr>\n        <td>250</td>\n        <td>ay</td>\n        <td>Antarctica</td>\n        <td>0</td>\n        <td>280000</td>\n        <td>0</td>\n        <td>0</td>\n        <td>None</td>\n        <td>None</td>\n        <td>None</td>\n        <td>None</td>\n    </tr>\n    <tr>\n        <td>256</td>\n        <td>xq</td>\n        <td>Arctic Ocean</td>\n        <td>0</td>\n        <td>0</td>\n        <td>0</td>\n        <td>None</td>\n        <td>None</td>\n        <td>None</td>\n        <td>None</td>\n        <td>None</td>\n    </tr>\n    <tr>\n        <td>257</td>\n        <td>zh</td>\n        <td>Atlantic Ocean</td>\n        <td>0</td>\n        <td>0</td>\n        <td>0</td>\n        <td>None</td>\n        <td>None</td>\n        <td>None</td>\n        <td>None</td>\n        <td>None</td>\n    </tr>\n    <tr>\n        <td>258</td>\n        <td>xo</td>\n        <td>Indian Ocean</td>\n        <td>0</td>\n        <td>0</td>\n        <td>0</td>\n        <td>None</td>\n        <td>None</td>\n        <td>None</td>\n        <td>None</td>\n        <td>None</td>\n    </tr>\n    <tr>\n        <td>259</td>\n        <td>zn</td>\n        <td>Pacific Ocean</td>\n        <td>0</td>\n        <td>0</td>\n        <td>0</td>\n        <td>None</td>\n        <td>None</td>\n        <td>None</td>\n        <td>None</td>\n        <td>None</td>\n    </tr>\n    <tr>\n        <td>260</td>\n        <td>oo</td>\n        <td>Southern Ocean</td>\n        <td>0</td>\n        <td>0</td>\n        <td>0</td>\n        <td>None</td>\n        <td>None</td>\n        <td>None</td>\n        <td>None</td>\n        <td>None</td>\n    </tr>\n    <tr>\n        <td>261</td>\n        <td>xx</td>\n        <td>World</td>\n        <td>0</td>\n        <td>0</td>\n        <td>0</td>\n        <td>7256490011</td>\n        <td>1.08</td>\n        <td>18.6</td>\n        <td>7.8</td>\n        <td>None</td>\n    </tr>\n</table>"
     },
     "metadata": {},
     "execution_count": 6
    }
   ],
   "source": [
    "%%sql\n",
    "\n",
    "/* Update null value to zero for calculation purpose.*/\n",
    "\n",
    "UPDATE facts\n",
    "   SET area = 0\n",
    " WHERE area IS NULL;\n",
    "\n",
    "UPDATE facts\n",
    "   SET area_land = 0\n",
    " WHERE area_land IS NULL;\n",
    "\n",
    "UPDATE facts\n",
    "   SET area_water = 0\n",
    " WHERE area_water IS NULL;\n",
    "\n",
    "SELECT *\n",
    "  FROM facts\n",
    " WHERE area == 0\n",
    "    OR area_land == 0;"
   ]
  },
  {
   "cell_type": "code",
   "execution_count": 7,
   "metadata": {},
   "outputs": [
    {
     "output_type": "stream",
     "name": "stdout",
     "text": [
      " * sqlite:///factbook.db\n",
      "Done.\n",
      "1 rows affected.\n",
      "1 rows affected.\n",
      "Done.\n"
     ]
    },
    {
     "output_type": "execute_result",
     "data": {
      "text/plain": [
       "[(58, 'et', 'Ethiopia', 1104300, 1096570, 7730, 99465819, 2.89, 37.27, 8.19, 0.22),\n",
       " (165, 'su', 'Sudan', 1861484, 1731671, 129813, 36108853, 1.72, 29.19, 7.66, 4.29),\n",
       " (212, 'tb', 'Saint Barthelemy', 25, 25, 0, 7237, None, None, None, None)]"
      ],
      "text/html": "<table>\n    <tr>\n        <th>id</th>\n        <th>code</th>\n        <th>name</th>\n        <th>area</th>\n        <th>area_land</th>\n        <th>area_water</th>\n        <th>population</th>\n        <th>population_growth</th>\n        <th>birth_rate</th>\n        <th>death_rate</th>\n        <th>migration_rate</th>\n    </tr>\n    <tr>\n        <td>58</td>\n        <td>et</td>\n        <td>Ethiopia</td>\n        <td>1104300</td>\n        <td>1096570</td>\n        <td>7730</td>\n        <td>99465819</td>\n        <td>2.89</td>\n        <td>37.27</td>\n        <td>8.19</td>\n        <td>0.22</td>\n    </tr>\n    <tr>\n        <td>165</td>\n        <td>su</td>\n        <td>Sudan</td>\n        <td>1861484</td>\n        <td>1731671</td>\n        <td>129813</td>\n        <td>36108853</td>\n        <td>1.72</td>\n        <td>29.19</td>\n        <td>7.66</td>\n        <td>4.29</td>\n    </tr>\n    <tr>\n        <td>212</td>\n        <td>tb</td>\n        <td>Saint Barthelemy</td>\n        <td>25</td>\n        <td>25</td>\n        <td>0</td>\n        <td>7237</td>\n        <td>None</td>\n        <td>None</td>\n        <td>None</td>\n        <td>None</td>\n    </tr>\n</table>"
     },
     "metadata": {},
     "execution_count": 7
    }
   ],
   "source": [
    "%%sql\n",
    "\n",
    "/* Update correct data for Saint Barthelemy, Ethiopia, and Sudan. */\n",
    "\n",
    "UPDATE facts\n",
    "   SET area = 25,\n",
    "       area_land = 25\n",
    " WHERE name == 'Saint Barthelemy';\n",
    "\n",
    " UPDATE facts\n",
    "   SET area_land = 1096570,\n",
    "       area_water = 7730\n",
    " WHERE name == 'Ethiopia';\n",
    "\n",
    "UPDATE facts\n",
    "   SET area_land = 1731671,\n",
    "       area_water = 129813\n",
    " WHERE name == 'Sudan';\n",
    "\n",
    " SELECT *\n",
    "   FROM facts\n",
    "  WHERE name IN ('Saint Barthelemy', 'Ethiopia', 'Sudan');"
   ]
  },
  {
   "cell_type": "code",
   "execution_count": 8,
   "metadata": {},
   "outputs": [
    {
     "output_type": "stream",
     "name": "stdout",
     "text": [
      " * sqlite:///factbook.db\n",
      "Done.\n",
      "Done.\n"
     ]
    },
    {
     "output_type": "execute_result",
     "data": {
      "text/plain": [
       "[(35, 'cd', 'Chad', 1284000, 1259200, 24800, 11631456, 1.89, 36.6, 14.28, 3.45),\n",
       " (128, 'ng', 'Niger', 1267000, 1266700, 300, 18045729, 3.25, 45.45, 12.42, 0.56),\n",
       " (250, 'ay', 'Antarctica', 280000, 280000, 0, 0, None, None, None, None)]"
      ],
      "text/html": "<table>\n    <tr>\n        <th>id</th>\n        <th>code</th>\n        <th>name</th>\n        <th>area</th>\n        <th>area_land</th>\n        <th>area_water</th>\n        <th>population</th>\n        <th>population_growth</th>\n        <th>birth_rate</th>\n        <th>death_rate</th>\n        <th>migration_rate</th>\n    </tr>\n    <tr>\n        <td>35</td>\n        <td>cd</td>\n        <td>Chad</td>\n        <td>1284000</td>\n        <td>1259200</td>\n        <td>24800</td>\n        <td>11631456</td>\n        <td>1.89</td>\n        <td>36.6</td>\n        <td>14.28</td>\n        <td>3.45</td>\n    </tr>\n    <tr>\n        <td>128</td>\n        <td>ng</td>\n        <td>Niger</td>\n        <td>1267000</td>\n        <td>1266700</td>\n        <td>300</td>\n        <td>18045729</td>\n        <td>3.25</td>\n        <td>45.45</td>\n        <td>12.42</td>\n        <td>0.56</td>\n    </tr>\n    <tr>\n        <td>250</td>\n        <td>ay</td>\n        <td>Antarctica</td>\n        <td>280000</td>\n        <td>280000</td>\n        <td>0</td>\n        <td>0</td>\n        <td>None</td>\n        <td>None</td>\n        <td>None</td>\n        <td>None</td>\n    </tr>\n</table>"
     },
     "metadata": {},
     "execution_count": 8
    }
   ],
   "source": [
    "%%sql\n",
    "\n",
    "/* Update the calculation for Chad, Niger, and Antarctica. */\n",
    "\n",
    "UPDATE facts\n",
    "   SET area = area_land + area_water\n",
    " WHERE name IN ('Chad', 'Niger', 'Antarctica');\n",
    "\n",
    "SELECT *\n",
    "  FROM facts\n",
    " WHERE name IN ('Chad', 'Niger', 'Antarctica');"
   ]
  },
  {
   "cell_type": "code",
   "execution_count": 9,
   "metadata": {},
   "outputs": [
    {
     "output_type": "stream",
     "name": "stdout",
     "text": [
      " * sqlite:///factbook.db\nDone.\n"
     ]
    },
    {
     "output_type": "execute_result",
     "data": {
      "text/plain": [
       "[(250, 'ay', 'Antarctica', 280000, 280000, 0, 0, None, None, None, None)]"
      ],
      "text/html": "<table>\n    <tr>\n        <th>id</th>\n        <th>code</th>\n        <th>name</th>\n        <th>area</th>\n        <th>area_land</th>\n        <th>area_water</th>\n        <th>population</th>\n        <th>population_growth</th>\n        <th>birth_rate</th>\n        <th>death_rate</th>\n        <th>migration_rate</th>\n    </tr>\n    <tr>\n        <td>250</td>\n        <td>ay</td>\n        <td>Antarctica</td>\n        <td>280000</td>\n        <td>280000</td>\n        <td>0</td>\n        <td>0</td>\n        <td>None</td>\n        <td>None</td>\n        <td>None</td>\n        <td>None</td>\n    </tr>\n</table>"
     },
     "metadata": {},
     "execution_count": 9
    }
   ],
   "source": [
    "%%sql\n",
    "\n",
    "/* Check countries with zero population. */\n",
    "\n",
    "SELECT *\n",
    "  FROM facts\n",
    " WHERE population == (SELECT MIN(population)\n",
    "                        FROM facts\n",
    "                     );"
   ]
  },
  {
   "source": [
    "The country with zero population is Antarctica. According to the CIA factbook, there are no indigeneous inhabitants in this country. We will include this row in our further analysis as the data is valid.\n",
    "\n",
    "![antarctica_pop](pics/antarctica_pop.png)"
   ],
   "cell_type": "markdown",
   "metadata": {}
  },
  {
   "cell_type": "code",
   "execution_count": 10,
   "metadata": {},
   "outputs": [
    {
     "output_type": "stream",
     "name": "stdout",
     "text": [
      " * sqlite:///factbook.db\nDone.\n"
     ]
    },
    {
     "output_type": "execute_result",
     "data": {
      "text/plain": [
       "[(261, 'xx', 'World', 0, 0, 0, 7256490011, 1.08, 18.6, 7.8, None)]"
      ],
      "text/html": "<table>\n    <tr>\n        <th>id</th>\n        <th>code</th>\n        <th>name</th>\n        <th>area</th>\n        <th>area_land</th>\n        <th>area_water</th>\n        <th>population</th>\n        <th>population_growth</th>\n        <th>birth_rate</th>\n        <th>death_rate</th>\n        <th>migration_rate</th>\n    </tr>\n    <tr>\n        <td>261</td>\n        <td>xx</td>\n        <td>World</td>\n        <td>0</td>\n        <td>0</td>\n        <td>0</td>\n        <td>7256490011</td>\n        <td>1.08</td>\n        <td>18.6</td>\n        <td>7.8</td>\n        <td>None</td>\n    </tr>\n</table>"
     },
     "metadata": {},
     "execution_count": 10
    }
   ],
   "source": [
    "%%sql\n",
    "\n",
    "/* Check countries with 7 billion population. */\n",
    "\n",
    "SELECT *\n",
    "  FROM facts\n",
    " WHERE population == (SELECT MAX(population)\n",
    "                        FROM facts\n",
    "                     );"
   ]
  },
  {
   "source": [
    "This row should be excluded from our analysis as it contains information of the whole world. \n",
    "\n",
    "We also notice from an earlier table that European Union is included in this database. This will be excluded from our analysis as the data would be duplicated with other EU countries already listed in the table."
   ],
   "cell_type": "markdown",
   "metadata": {}
  },
  {
   "cell_type": "code",
   "execution_count": 11,
   "metadata": {},
   "outputs": [
    {
     "output_type": "stream",
     "name": "stdout",
     "text": [
      " * sqlite:///factbook.db\nDone.\n"
     ]
    },
    {
     "output_type": "execute_result",
     "data": {
      "text/plain": [
       "[(0, 0, 1367485388, 0.0, 4.02)]"
      ],
      "text/html": "<table>\n    <tr>\n        <th>min_area</th>\n        <th>min_pop</th>\n        <th>max_pop</th>\n        <th>min_pop_growth</th>\n        <th>max_pop_growth</th>\n    </tr>\n    <tr>\n        <td>0</td>\n        <td>0</td>\n        <td>1367485388</td>\n        <td>0.0</td>\n        <td>4.02</td>\n    </tr>\n</table>"
     },
     "metadata": {},
     "execution_count": 11
    }
   ],
   "source": [
    "%%sql\n",
    "\n",
    "/* Recheck the statistics for area and population. */\n",
    "\n",
    "SELECT MIN(area) AS min_area,\n",
    "       MIN(population) AS min_pop,\n",
    "       MAX(population) AS max_pop, \n",
    "       MIN(population_growth) AS min_pop_growth, \n",
    "       MAX(population_growth) AS max_pop_growth\n",
    "  FROM facts\n",
    " WHERE name <> 'World'\n",
    "   AND name <> 'European Union';"
   ]
  },
  {
   "cell_type": "code",
   "execution_count": 12,
   "metadata": {},
   "outputs": [
    {
     "output_type": "stream",
     "name": "stdout",
     "text": [
      " * sqlite:///factbook.db\nDone.\n"
     ]
    },
    {
     "output_type": "execute_result",
     "data": {
      "text/plain": [
       "[(37, 'ch', 'China', 9596960, 9326410, 270550, 1367485388, 0.45, 12.49, 7.53, 0.44)]"
      ],
      "text/html": "<table>\n    <tr>\n        <th>id</th>\n        <th>code</th>\n        <th>name</th>\n        <th>area</th>\n        <th>area_land</th>\n        <th>area_water</th>\n        <th>population</th>\n        <th>population_growth</th>\n        <th>birth_rate</th>\n        <th>death_rate</th>\n        <th>migration_rate</th>\n    </tr>\n    <tr>\n        <td>37</td>\n        <td>ch</td>\n        <td>China</td>\n        <td>9596960</td>\n        <td>9326410</td>\n        <td>270550</td>\n        <td>1367485388</td>\n        <td>0.45</td>\n        <td>12.49</td>\n        <td>7.53</td>\n        <td>0.44</td>\n    </tr>\n</table>"
     },
     "metadata": {},
     "execution_count": 12
    }
   ],
   "source": [
    "%%sql\n",
    "\n",
    "/* Check countries with 1 billion population. */\n",
    "\n",
    "SELECT *\n",
    "  FROM facts\n",
    " WHERE population == (SELECT MAX(population)\n",
    "                        FROM facts\n",
    "                       WHERE name <> 'World'\n",
    "                         AND name <> 'European Union' \n",
    "                     );"
   ]
  },
  {
   "source": [
    "The country with the highest number of population is China."
   ],
   "cell_type": "markdown",
   "metadata": {}
  },
  {
   "source": [
    "## Finding densely-populated countries (1)\n",
    "\n",
    "In order to find a list of densely-populated countries, we'll find the countries that fit 2 criteria, which are\n",
    "\n",
    "- above-average number of population, and\n",
    "- below-average country area."
   ],
   "cell_type": "markdown",
   "metadata": {}
  },
  {
   "cell_type": "code",
   "execution_count": 13,
   "metadata": {},
   "outputs": [
    {
     "output_type": "stream",
     "name": "stdout",
     "text": [
      " * sqlite:///factbook.db\nDone.\n"
     ]
    },
    {
     "output_type": "execute_result",
     "data": {
      "text/plain": [
       "[(30235554.99, 527893.96)]"
      ],
      "text/html": "<table>\n    <tr>\n        <th>avg_pop</th>\n        <th>avg_area</th>\n    </tr>\n    <tr>\n        <td>30235554.99</td>\n        <td>527893.96</td>\n    </tr>\n</table>"
     },
     "metadata": {},
     "execution_count": 13
    }
   ],
   "source": [
    "%%sql\n",
    "\n",
    "SELECT ROUND(AVG(population), 2) AS avg_pop,\n",
    "       ROUND(AVG(area), 2) AS avg_area\n",
    "  FROM facts\n",
    " WHERE name <> 'World'\n",
    "   AND name <> 'European Union';"
   ]
  },
  {
   "cell_type": "code",
   "execution_count": 14,
   "metadata": {},
   "outputs": [
    {
     "output_type": "stream",
     "name": "stdout",
     "text": [
      " * sqlite:///factbook.db\n",
      "Done.\n"
     ]
    },
    {
     "output_type": "execute_result",
     "data": {
      "text/plain": [
       "[(14, 'bg', 'Bangladesh', 148460, 130170, 18290, 168957745, 1.6, 21.14, 5.61, 0.46, 1297.0),\n",
       " (91, 'ks', 'Korea, South', 99720, 96920, 2800, 49115196, 0.14, 8.19, 6.75, 0.0, 506.0),\n",
       " (138, 'rp', 'Philippines', 300000, 298170, 1830, 100998376, 1.61, 24.27, 6.11, 2.09, 338.0),\n",
       " (85, 'ja', 'Japan', 377915, 364485, 13430, 126919659, 0.16, 7.93, 9.51, 0.0, 348.0),\n",
       " (192, 'vm', 'Vietnam', 331210, 310070, 21140, 94348835, 0.97, 15.96, 5.93, 0.3, 304.0),\n",
       " (185, 'uk', 'United Kingdom', 243610, 241930, 1680, 64088222, 0.54, 12.17, 9.35, 2.54, 264.0),\n",
       " (65, 'gm', 'Germany', 357022, 348672, 8350, 80854408, 0.17, 8.47, 11.42, 1.24, 231.0),\n",
       " (124, 'np', 'Nepal', 147181, 143351, 3830, 31551305, 1.79, 20.64, 6.56, 3.86, 220.0),\n",
       " (83, 'it', 'Italy', 301340, 294140, 7200, 61855120, 0.27, 8.74, 10.19, 4.1, 210.0),\n",
       " (182, 'ug', 'Uganda', 241038, 197100, 43938, 37101745, 3.24, 43.79, 10.69, 0.74, 188.0),\n",
       " (173, 'th', 'Thailand', 513120, 510890, 2230, 67976405, 0.34, 11.19, 7.8, 0.0, 133.0),\n",
       " (139, 'pl', 'Poland', 312685, 304255, 8430, 38562189, 0.09, 9.74, 10.19, 0.46, 126.0),\n",
       " (163, 'sp', 'Spain', 505370, 498980, 6390, 48146134, 0.89, 9.64, 9.04, 8.31, 96.0),\n",
       " (107, 'my', 'Malaysia', 329847, 328657, 1190, 30513848, 1.44, 19.71, 5.03, 0.33, 92.0),\n",
       " (80, 'iz', 'Iraq', 438317, 437367, 950, 37056169, 2.93, 31.45, 3.77, 1.62, 84.0),\n",
       " (120, 'mo', 'Morocco', 446550, 446300, 250, 33322699, 1.0, 18.2, 4.81, 3.36, 74.0),\n",
       " (261, 'xx', 'World', 0, 0, 0, 7256490011, 1.08, 18.6, 7.8, None, None)]"
      ],
      "text/html": "<table>\n    <tr>\n        <th>id</th>\n        <th>code</th>\n        <th>name</th>\n        <th>area</th>\n        <th>area_land</th>\n        <th>area_water</th>\n        <th>population</th>\n        <th>population_growth</th>\n        <th>birth_rate</th>\n        <th>death_rate</th>\n        <th>migration_rate</th>\n        <th>pop_density</th>\n    </tr>\n    <tr>\n        <td>14</td>\n        <td>bg</td>\n        <td>Bangladesh</td>\n        <td>148460</td>\n        <td>130170</td>\n        <td>18290</td>\n        <td>168957745</td>\n        <td>1.6</td>\n        <td>21.14</td>\n        <td>5.61</td>\n        <td>0.46</td>\n        <td>1297.0</td>\n    </tr>\n    <tr>\n        <td>91</td>\n        <td>ks</td>\n        <td>Korea, South</td>\n        <td>99720</td>\n        <td>96920</td>\n        <td>2800</td>\n        <td>49115196</td>\n        <td>0.14</td>\n        <td>8.19</td>\n        <td>6.75</td>\n        <td>0.0</td>\n        <td>506.0</td>\n    </tr>\n    <tr>\n        <td>138</td>\n        <td>rp</td>\n        <td>Philippines</td>\n        <td>300000</td>\n        <td>298170</td>\n        <td>1830</td>\n        <td>100998376</td>\n        <td>1.61</td>\n        <td>24.27</td>\n        <td>6.11</td>\n        <td>2.09</td>\n        <td>338.0</td>\n    </tr>\n    <tr>\n        <td>85</td>\n        <td>ja</td>\n        <td>Japan</td>\n        <td>377915</td>\n        <td>364485</td>\n        <td>13430</td>\n        <td>126919659</td>\n        <td>0.16</td>\n        <td>7.93</td>\n        <td>9.51</td>\n        <td>0.0</td>\n        <td>348.0</td>\n    </tr>\n    <tr>\n        <td>192</td>\n        <td>vm</td>\n        <td>Vietnam</td>\n        <td>331210</td>\n        <td>310070</td>\n        <td>21140</td>\n        <td>94348835</td>\n        <td>0.97</td>\n        <td>15.96</td>\n        <td>5.93</td>\n        <td>0.3</td>\n        <td>304.0</td>\n    </tr>\n    <tr>\n        <td>185</td>\n        <td>uk</td>\n        <td>United Kingdom</td>\n        <td>243610</td>\n        <td>241930</td>\n        <td>1680</td>\n        <td>64088222</td>\n        <td>0.54</td>\n        <td>12.17</td>\n        <td>9.35</td>\n        <td>2.54</td>\n        <td>264.0</td>\n    </tr>\n    <tr>\n        <td>65</td>\n        <td>gm</td>\n        <td>Germany</td>\n        <td>357022</td>\n        <td>348672</td>\n        <td>8350</td>\n        <td>80854408</td>\n        <td>0.17</td>\n        <td>8.47</td>\n        <td>11.42</td>\n        <td>1.24</td>\n        <td>231.0</td>\n    </tr>\n    <tr>\n        <td>124</td>\n        <td>np</td>\n        <td>Nepal</td>\n        <td>147181</td>\n        <td>143351</td>\n        <td>3830</td>\n        <td>31551305</td>\n        <td>1.79</td>\n        <td>20.64</td>\n        <td>6.56</td>\n        <td>3.86</td>\n        <td>220.0</td>\n    </tr>\n    <tr>\n        <td>83</td>\n        <td>it</td>\n        <td>Italy</td>\n        <td>301340</td>\n        <td>294140</td>\n        <td>7200</td>\n        <td>61855120</td>\n        <td>0.27</td>\n        <td>8.74</td>\n        <td>10.19</td>\n        <td>4.1</td>\n        <td>210.0</td>\n    </tr>\n    <tr>\n        <td>182</td>\n        <td>ug</td>\n        <td>Uganda</td>\n        <td>241038</td>\n        <td>197100</td>\n        <td>43938</td>\n        <td>37101745</td>\n        <td>3.24</td>\n        <td>43.79</td>\n        <td>10.69</td>\n        <td>0.74</td>\n        <td>188.0</td>\n    </tr>\n    <tr>\n        <td>173</td>\n        <td>th</td>\n        <td>Thailand</td>\n        <td>513120</td>\n        <td>510890</td>\n        <td>2230</td>\n        <td>67976405</td>\n        <td>0.34</td>\n        <td>11.19</td>\n        <td>7.8</td>\n        <td>0.0</td>\n        <td>133.0</td>\n    </tr>\n    <tr>\n        <td>139</td>\n        <td>pl</td>\n        <td>Poland</td>\n        <td>312685</td>\n        <td>304255</td>\n        <td>8430</td>\n        <td>38562189</td>\n        <td>0.09</td>\n        <td>9.74</td>\n        <td>10.19</td>\n        <td>0.46</td>\n        <td>126.0</td>\n    </tr>\n    <tr>\n        <td>163</td>\n        <td>sp</td>\n        <td>Spain</td>\n        <td>505370</td>\n        <td>498980</td>\n        <td>6390</td>\n        <td>48146134</td>\n        <td>0.89</td>\n        <td>9.64</td>\n        <td>9.04</td>\n        <td>8.31</td>\n        <td>96.0</td>\n    </tr>\n    <tr>\n        <td>107</td>\n        <td>my</td>\n        <td>Malaysia</td>\n        <td>329847</td>\n        <td>328657</td>\n        <td>1190</td>\n        <td>30513848</td>\n        <td>1.44</td>\n        <td>19.71</td>\n        <td>5.03</td>\n        <td>0.33</td>\n        <td>92.0</td>\n    </tr>\n    <tr>\n        <td>80</td>\n        <td>iz</td>\n        <td>Iraq</td>\n        <td>438317</td>\n        <td>437367</td>\n        <td>950</td>\n        <td>37056169</td>\n        <td>2.93</td>\n        <td>31.45</td>\n        <td>3.77</td>\n        <td>1.62</td>\n        <td>84.0</td>\n    </tr>\n    <tr>\n        <td>120</td>\n        <td>mo</td>\n        <td>Morocco</td>\n        <td>446550</td>\n        <td>446300</td>\n        <td>250</td>\n        <td>33322699</td>\n        <td>1.0</td>\n        <td>18.2</td>\n        <td>4.81</td>\n        <td>3.36</td>\n        <td>74.0</td>\n    </tr>\n    <tr>\n        <td>261</td>\n        <td>xx</td>\n        <td>World</td>\n        <td>0</td>\n        <td>0</td>\n        <td>0</td>\n        <td>7256490011</td>\n        <td>1.08</td>\n        <td>18.6</td>\n        <td>7.8</td>\n        <td>None</td>\n        <td>None</td>\n    </tr>\n</table>"
     },
     "metadata": {},
     "execution_count": 14
    }
   ],
   "source": [
    "%%sql\n",
    "\n",
    "SELECT *, \n",
    "       ROUND(population/area_land, 2) AS pop_density\n",
    "  FROM facts\n",
    " WHERE population > (SELECT AVG(population)\n",
    "                       FROM facts\n",
    "                      WHERE name <> 'World'\n",
    "                        AND name <> 'European Union'\n",
    "                    )\n",
    "   AND area < (SELECT AVG(area)\n",
    "                 FROM facts\n",
    "                WHERE name <> 'World'\n",
    "                  AND name <> 'European Union'\n",
    "              )\n",
    " ORDER BY (population/area) DESC;"
   ]
  },
  {
   "source": [
    "Using the criteria mentioned above, the top 3 countries with highest population density are Bangladesh, South Korea, and Philippines.\n",
    "\n",
    "Next, we will change our method. We'll try calculating population density per kilometre for each country and rank them."
   ],
   "cell_type": "markdown",
   "metadata": {}
  },
  {
   "source": [
    "## Finding densely-populated countries (2)\n",
    "\n",
    "Since it is not common to live on water, here we will divide the population by only land area of the country."
   ],
   "cell_type": "markdown",
   "metadata": {}
  },
  {
   "cell_type": "code",
   "execution_count": 15,
   "metadata": {},
   "outputs": [
    {
     "output_type": "stream",
     "name": "stdout",
     "text": [
      " * sqlite:///factbook.db\n",
      "Done.\n"
     ]
    },
    {
     "output_type": "execute_result",
     "data": {
      "text/plain": [
       "[(205, 'mc', 'Macau', 28, 28, 0, 592731, 0.8, 8.88, 4.22, 3.37, 21168.0),\n",
       " (117, 'mn', 'Monaco', 2, 2, 0, 30535, 0.12, 6.65, 9.24, 3.83, 15267.0),\n",
       " (156, 'sn', 'Singapore', 697, 687, 10, 5674472, 1.89, 8.27, 3.43, 14.05, 8259.0),\n",
       " (204, 'hk', 'Hong Kong', 1108, 1073, 35, 7141106, 0.38, 9.23, 7.07, 1.68, 6655.0),\n",
       " (251, 'gz', 'Gaza Strip', 360, 360, 0, 1869055, 2.81, 31.11, 3.04, 0.0, 5191.0),\n",
       " (233, 'gi', 'Gibraltar', 6, 6, 0, 29258, 0.24, 14.08, 8.37, 3.28, 4876.0),\n",
       " (13, 'ba', 'Bahrain', 760, 760, 0, 1346613, 2.41, 13.66, 2.69, 13.09, 1771.0),\n",
       " (108, 'mv', 'Maldives', 298, 298, 0, 393253, 0.08, 15.75, 3.89, 12.68, 1319.0),\n",
       " (110, 'mt', 'Malta', 316, 316, 0, 413965, 0.31, 10.18, 9.09, 1.98, 1310.0),\n",
       " (227, 'bd', 'Bermuda', 54, 54, 0, 70196, 0.5, 11.33, 8.23, 1.88, 1299.0)]"
      ],
      "text/html": "<table>\n    <tr>\n        <th>id</th>\n        <th>code</th>\n        <th>name</th>\n        <th>area</th>\n        <th>area_land</th>\n        <th>area_water</th>\n        <th>population</th>\n        <th>population_growth</th>\n        <th>birth_rate</th>\n        <th>death_rate</th>\n        <th>migration_rate</th>\n        <th>pop_density</th>\n    </tr>\n    <tr>\n        <td>205</td>\n        <td>mc</td>\n        <td>Macau</td>\n        <td>28</td>\n        <td>28</td>\n        <td>0</td>\n        <td>592731</td>\n        <td>0.8</td>\n        <td>8.88</td>\n        <td>4.22</td>\n        <td>3.37</td>\n        <td>21168.0</td>\n    </tr>\n    <tr>\n        <td>117</td>\n        <td>mn</td>\n        <td>Monaco</td>\n        <td>2</td>\n        <td>2</td>\n        <td>0</td>\n        <td>30535</td>\n        <td>0.12</td>\n        <td>6.65</td>\n        <td>9.24</td>\n        <td>3.83</td>\n        <td>15267.0</td>\n    </tr>\n    <tr>\n        <td>156</td>\n        <td>sn</td>\n        <td>Singapore</td>\n        <td>697</td>\n        <td>687</td>\n        <td>10</td>\n        <td>5674472</td>\n        <td>1.89</td>\n        <td>8.27</td>\n        <td>3.43</td>\n        <td>14.05</td>\n        <td>8259.0</td>\n    </tr>\n    <tr>\n        <td>204</td>\n        <td>hk</td>\n        <td>Hong Kong</td>\n        <td>1108</td>\n        <td>1073</td>\n        <td>35</td>\n        <td>7141106</td>\n        <td>0.38</td>\n        <td>9.23</td>\n        <td>7.07</td>\n        <td>1.68</td>\n        <td>6655.0</td>\n    </tr>\n    <tr>\n        <td>251</td>\n        <td>gz</td>\n        <td>Gaza Strip</td>\n        <td>360</td>\n        <td>360</td>\n        <td>0</td>\n        <td>1869055</td>\n        <td>2.81</td>\n        <td>31.11</td>\n        <td>3.04</td>\n        <td>0.0</td>\n        <td>5191.0</td>\n    </tr>\n    <tr>\n        <td>233</td>\n        <td>gi</td>\n        <td>Gibraltar</td>\n        <td>6</td>\n        <td>6</td>\n        <td>0</td>\n        <td>29258</td>\n        <td>0.24</td>\n        <td>14.08</td>\n        <td>8.37</td>\n        <td>3.28</td>\n        <td>4876.0</td>\n    </tr>\n    <tr>\n        <td>13</td>\n        <td>ba</td>\n        <td>Bahrain</td>\n        <td>760</td>\n        <td>760</td>\n        <td>0</td>\n        <td>1346613</td>\n        <td>2.41</td>\n        <td>13.66</td>\n        <td>2.69</td>\n        <td>13.09</td>\n        <td>1771.0</td>\n    </tr>\n    <tr>\n        <td>108</td>\n        <td>mv</td>\n        <td>Maldives</td>\n        <td>298</td>\n        <td>298</td>\n        <td>0</td>\n        <td>393253</td>\n        <td>0.08</td>\n        <td>15.75</td>\n        <td>3.89</td>\n        <td>12.68</td>\n        <td>1319.0</td>\n    </tr>\n    <tr>\n        <td>110</td>\n        <td>mt</td>\n        <td>Malta</td>\n        <td>316</td>\n        <td>316</td>\n        <td>0</td>\n        <td>413965</td>\n        <td>0.31</td>\n        <td>10.18</td>\n        <td>9.09</td>\n        <td>1.98</td>\n        <td>1310.0</td>\n    </tr>\n    <tr>\n        <td>227</td>\n        <td>bd</td>\n        <td>Bermuda</td>\n        <td>54</td>\n        <td>54</td>\n        <td>0</td>\n        <td>70196</td>\n        <td>0.5</td>\n        <td>11.33</td>\n        <td>8.23</td>\n        <td>1.88</td>\n        <td>1299.0</td>\n    </tr>\n</table>"
     },
     "metadata": {},
     "execution_count": 15
    }
   ],
   "source": [
    "%%sql\n",
    "\n",
    "SELECT *,\n",
    "       ROUND(population/area_land, 2) AS pop_density\n",
    "  FROM facts\n",
    " ORDER BY pop_density DESC\n",
    " LIMIT 10;"
   ]
  },
  {
   "source": [
    "This method shows that the top 3 densely-populated countries are Macau, Monaco, and Singapore.\n",
    "\n",
    "Comparing the 2 tables, we can see that Bangladesh (the highest population density country from the earlier table) is not even in the top 10 densely-populated countries by population-to-area ratio."
   ],
   "cell_type": "markdown",
   "metadata": {}
  },
  {
   "source": [
    "## Finding countries with the highest water-to-land ratio"
   ],
   "cell_type": "markdown",
   "metadata": {}
  },
  {
   "cell_type": "code",
   "execution_count": 16,
   "metadata": {},
   "outputs": [
    {
     "output_type": "stream",
     "name": "stdout",
     "text": [
      " * sqlite:///factbook.db\n",
      "Done.\n"
     ]
    },
    {
     "output_type": "execute_result",
     "data": {
      "text/plain": [
       "[(228, 'io', 'British Indian Ocean Territory', 54400, 60, 54340, None, None, None, None, None, 905.67),\n",
       " (247, 'vq', 'Virgin Islands', 1910, 346, 1564, 103574, 0.59, 10.31, 8.54, 7.67, 4.52),\n",
       " (246, 'rq', 'Puerto Rico', 13791, 8870, 4921, 3598357, 0.6, 10.86, 8.67, 8.15, 0.55),\n",
       " (12, 'bf', 'Bahamas, The', 13880, 10010, 3870, 324597, 0.85, 15.5, 7.05, 0.0, 0.39),\n",
       " (71, 'pu', 'Guinea-Bissau', 36125, 28120, 8005, 1726170, 1.91, 33.38, 14.33, 0.0, 0.28),\n",
       " (106, 'mi', 'Malawi', 118484, 94080, 24404, 17964697, 3.32, 41.56, 8.41, 0.0, 0.26),\n",
       " (125, 'nl', 'Netherlands', 41543, 33893, 7650, 16947904, 0.41, 10.83, 8.66, 1.95, 0.23),\n",
       " (182, 'ug', 'Uganda', 241038, 197100, 43938, 37101745, 3.24, 43.79, 10.69, 0.74, 0.22),\n",
       " (56, 'er', 'Eritrea', 117600, 101000, 16600, 6527689, 2.25, 30.0, 7.52, 0.0, 0.16),\n",
       " (99, 'li', 'Liberia', 111369, 96320, 15049, 4195666, 2.47, 34.41, 9.69, 0.0, 0.16)]"
      ],
      "text/html": "<table>\n    <tr>\n        <th>id</th>\n        <th>code</th>\n        <th>name</th>\n        <th>area</th>\n        <th>area_land</th>\n        <th>area_water</th>\n        <th>population</th>\n        <th>population_growth</th>\n        <th>birth_rate</th>\n        <th>death_rate</th>\n        <th>migration_rate</th>\n        <th>water_to_land_ratio</th>\n    </tr>\n    <tr>\n        <td>228</td>\n        <td>io</td>\n        <td>British Indian Ocean Territory</td>\n        <td>54400</td>\n        <td>60</td>\n        <td>54340</td>\n        <td>None</td>\n        <td>None</td>\n        <td>None</td>\n        <td>None</td>\n        <td>None</td>\n        <td>905.67</td>\n    </tr>\n    <tr>\n        <td>247</td>\n        <td>vq</td>\n        <td>Virgin Islands</td>\n        <td>1910</td>\n        <td>346</td>\n        <td>1564</td>\n        <td>103574</td>\n        <td>0.59</td>\n        <td>10.31</td>\n        <td>8.54</td>\n        <td>7.67</td>\n        <td>4.52</td>\n    </tr>\n    <tr>\n        <td>246</td>\n        <td>rq</td>\n        <td>Puerto Rico</td>\n        <td>13791</td>\n        <td>8870</td>\n        <td>4921</td>\n        <td>3598357</td>\n        <td>0.6</td>\n        <td>10.86</td>\n        <td>8.67</td>\n        <td>8.15</td>\n        <td>0.55</td>\n    </tr>\n    <tr>\n        <td>12</td>\n        <td>bf</td>\n        <td>Bahamas, The</td>\n        <td>13880</td>\n        <td>10010</td>\n        <td>3870</td>\n        <td>324597</td>\n        <td>0.85</td>\n        <td>15.5</td>\n        <td>7.05</td>\n        <td>0.0</td>\n        <td>0.39</td>\n    </tr>\n    <tr>\n        <td>71</td>\n        <td>pu</td>\n        <td>Guinea-Bissau</td>\n        <td>36125</td>\n        <td>28120</td>\n        <td>8005</td>\n        <td>1726170</td>\n        <td>1.91</td>\n        <td>33.38</td>\n        <td>14.33</td>\n        <td>0.0</td>\n        <td>0.28</td>\n    </tr>\n    <tr>\n        <td>106</td>\n        <td>mi</td>\n        <td>Malawi</td>\n        <td>118484</td>\n        <td>94080</td>\n        <td>24404</td>\n        <td>17964697</td>\n        <td>3.32</td>\n        <td>41.56</td>\n        <td>8.41</td>\n        <td>0.0</td>\n        <td>0.26</td>\n    </tr>\n    <tr>\n        <td>125</td>\n        <td>nl</td>\n        <td>Netherlands</td>\n        <td>41543</td>\n        <td>33893</td>\n        <td>7650</td>\n        <td>16947904</td>\n        <td>0.41</td>\n        <td>10.83</td>\n        <td>8.66</td>\n        <td>1.95</td>\n        <td>0.23</td>\n    </tr>\n    <tr>\n        <td>182</td>\n        <td>ug</td>\n        <td>Uganda</td>\n        <td>241038</td>\n        <td>197100</td>\n        <td>43938</td>\n        <td>37101745</td>\n        <td>3.24</td>\n        <td>43.79</td>\n        <td>10.69</td>\n        <td>0.74</td>\n        <td>0.22</td>\n    </tr>\n    <tr>\n        <td>56</td>\n        <td>er</td>\n        <td>Eritrea</td>\n        <td>117600</td>\n        <td>101000</td>\n        <td>16600</td>\n        <td>6527689</td>\n        <td>2.25</td>\n        <td>30.0</td>\n        <td>7.52</td>\n        <td>0.0</td>\n        <td>0.16</td>\n    </tr>\n    <tr>\n        <td>99</td>\n        <td>li</td>\n        <td>Liberia</td>\n        <td>111369</td>\n        <td>96320</td>\n        <td>15049</td>\n        <td>4195666</td>\n        <td>2.47</td>\n        <td>34.41</td>\n        <td>9.69</td>\n        <td>0.0</td>\n        <td>0.16</td>\n    </tr>\n</table>"
     },
     "metadata": {},
     "execution_count": 16
    }
   ],
   "source": [
    "%%sql\n",
    "\n",
    "SELECT *,\n",
    "       ROUND(CAST(area_water AS FLOAT)/area_land, 2) AS water_to_land_ratio\n",
    "  FROM facts\n",
    " WHERE name <> 'World'\n",
    "   AND name <> 'European Union'\n",
    " ORDER BY water_to_land_ratio DESC\n",
    " LIMIT 10;"
   ]
  },
  {
   "source": [
    "British Indian Ocean Territory is situated in the Indian Ocean. It comprises of atolls and small islands. The closest neighboring country is Maldives, followed by Seachelles.\n",
    "\n",
    "![BIOT_map](pics/BIOT_map.png)\n",
    "\n",
    "From the map above, we notice that Maldives and Seychelles are not included in the top 10 countries with the highest water-to-land ratio despite similar geography to British Indian Ocean Territory."
   ],
   "cell_type": "markdown",
   "metadata": {}
  },
  {
   "cell_type": "code",
   "execution_count": 17,
   "metadata": {},
   "outputs": [
    {
     "output_type": "stream",
     "name": "stdout",
     "text": [
      " * sqlite:///factbook.db\nDone.\n"
     ]
    },
    {
     "output_type": "execute_result",
     "data": {
      "text/plain": [
       "[(108, 'mv', 'Maldives', 298, 298, 0, 393253, 0.08, 15.75, 3.89, 12.68, 0.0),\n",
       " (154, 'se', 'Seychelles', 455, 455, 0, 92430, 0.83, 14.19, 6.89, 1.0, 0.0)]"
      ],
      "text/html": "<table>\n    <tr>\n        <th>id</th>\n        <th>code</th>\n        <th>name</th>\n        <th>area</th>\n        <th>area_land</th>\n        <th>area_water</th>\n        <th>population</th>\n        <th>population_growth</th>\n        <th>birth_rate</th>\n        <th>death_rate</th>\n        <th>migration_rate</th>\n        <th>water_to_land_ratio</th>\n    </tr>\n    <tr>\n        <td>108</td>\n        <td>mv</td>\n        <td>Maldives</td>\n        <td>298</td>\n        <td>298</td>\n        <td>0</td>\n        <td>393253</td>\n        <td>0.08</td>\n        <td>15.75</td>\n        <td>3.89</td>\n        <td>12.68</td>\n        <td>0.0</td>\n    </tr>\n    <tr>\n        <td>154</td>\n        <td>se</td>\n        <td>Seychelles</td>\n        <td>455</td>\n        <td>455</td>\n        <td>0</td>\n        <td>92430</td>\n        <td>0.83</td>\n        <td>14.19</td>\n        <td>6.89</td>\n        <td>1.0</td>\n        <td>0.0</td>\n    </tr>\n</table>"
     },
     "metadata": {},
     "execution_count": 17
    }
   ],
   "source": [
    "%%sql\n",
    "\n",
    "SELECT *,\n",
    "       ROUND(CAST(area_water AS FLOAT)/area_land, 2) AS water_to_land_ratio\n",
    "  FROM facts\n",
    " WHERE name == 'Maldives'\n",
    "    OR name == 'Seychelles';"
   ]
  },
  {
   "source": [
    "It turns out that CIA factbook doesn't have water area data for these 2 countries.\n",
    "\n",
    "![maldives](pics/maldives.png)\n",
    "![seychelles](pics/seychelles.png)"
   ],
   "cell_type": "markdown",
   "metadata": {}
  },
  {
   "source": [
    "## Finding countries with the highest number of population"
   ],
   "cell_type": "markdown",
   "metadata": {}
  },
  {
   "cell_type": "code",
   "execution_count": 18,
   "metadata": {},
   "outputs": [
    {
     "output_type": "stream",
     "name": "stdout",
     "text": [
      " * sqlite:///factbook.db\n",
      "Done.\n"
     ]
    },
    {
     "output_type": "execute_result",
     "data": {
      "text/plain": [
       "[(37, 'ch', 'China', 9596960, 9326410, 270550, 1367485388, 0.45, 12.49, 7.53, 0.44, 18.84),\n",
       " (77, 'in', 'India', 3287263, 2973193, 314070, 1251695584, 1.22, 19.55, 7.32, 0.04, 17.25),\n",
       " (186, 'us', 'United States', 9826675, 9161966, 664709, 321368864, 0.78, 12.49, 8.15, 3.86, 4.43),\n",
       " (78, 'id', 'Indonesia', 1904569, 1811569, 93000, 255993674, 0.92, 16.72, 6.37, 1.16, 3.53),\n",
       " (24, 'br', 'Brazil', 8515770, 8358140, 157630, 204259812, 0.77, 14.46, 6.58, 0.14, 2.81),\n",
       " (132, 'pk', 'Pakistan', 796095, 770875, 25220, 199085847, 1.46, 22.58, 6.49, 1.54, 2.74),\n",
       " (129, 'ni', 'Nigeria', 923768, 910768, 13000, 181562056, 2.45, 37.64, 12.9, 0.22, 2.5),\n",
       " (14, 'bg', 'Bangladesh', 148460, 130170, 18290, 168957745, 1.6, 21.14, 5.61, 0.46, 2.33),\n",
       " (143, 'rs', 'Russia', 17098242, 16377742, 720500, 142423773, 0.04, 11.6, 13.69, 1.69, 1.96),\n",
       " (85, 'ja', 'Japan', 377915, 364485, 13430, 126919659, 0.16, 7.93, 9.51, 0.0, 1.75)]"
      ],
      "text/html": "<table>\n    <tr>\n        <th>id</th>\n        <th>code</th>\n        <th>name</th>\n        <th>area</th>\n        <th>area_land</th>\n        <th>area_water</th>\n        <th>population</th>\n        <th>population_growth</th>\n        <th>birth_rate</th>\n        <th>death_rate</th>\n        <th>migration_rate</th>\n        <th>world_pop_percent</th>\n    </tr>\n    <tr>\n        <td>37</td>\n        <td>ch</td>\n        <td>China</td>\n        <td>9596960</td>\n        <td>9326410</td>\n        <td>270550</td>\n        <td>1367485388</td>\n        <td>0.45</td>\n        <td>12.49</td>\n        <td>7.53</td>\n        <td>0.44</td>\n        <td>18.84</td>\n    </tr>\n    <tr>\n        <td>77</td>\n        <td>in</td>\n        <td>India</td>\n        <td>3287263</td>\n        <td>2973193</td>\n        <td>314070</td>\n        <td>1251695584</td>\n        <td>1.22</td>\n        <td>19.55</td>\n        <td>7.32</td>\n        <td>0.04</td>\n        <td>17.25</td>\n    </tr>\n    <tr>\n        <td>186</td>\n        <td>us</td>\n        <td>United States</td>\n        <td>9826675</td>\n        <td>9161966</td>\n        <td>664709</td>\n        <td>321368864</td>\n        <td>0.78</td>\n        <td>12.49</td>\n        <td>8.15</td>\n        <td>3.86</td>\n        <td>4.43</td>\n    </tr>\n    <tr>\n        <td>78</td>\n        <td>id</td>\n        <td>Indonesia</td>\n        <td>1904569</td>\n        <td>1811569</td>\n        <td>93000</td>\n        <td>255993674</td>\n        <td>0.92</td>\n        <td>16.72</td>\n        <td>6.37</td>\n        <td>1.16</td>\n        <td>3.53</td>\n    </tr>\n    <tr>\n        <td>24</td>\n        <td>br</td>\n        <td>Brazil</td>\n        <td>8515770</td>\n        <td>8358140</td>\n        <td>157630</td>\n        <td>204259812</td>\n        <td>0.77</td>\n        <td>14.46</td>\n        <td>6.58</td>\n        <td>0.14</td>\n        <td>2.81</td>\n    </tr>\n    <tr>\n        <td>132</td>\n        <td>pk</td>\n        <td>Pakistan</td>\n        <td>796095</td>\n        <td>770875</td>\n        <td>25220</td>\n        <td>199085847</td>\n        <td>1.46</td>\n        <td>22.58</td>\n        <td>6.49</td>\n        <td>1.54</td>\n        <td>2.74</td>\n    </tr>\n    <tr>\n        <td>129</td>\n        <td>ni</td>\n        <td>Nigeria</td>\n        <td>923768</td>\n        <td>910768</td>\n        <td>13000</td>\n        <td>181562056</td>\n        <td>2.45</td>\n        <td>37.64</td>\n        <td>12.9</td>\n        <td>0.22</td>\n        <td>2.5</td>\n    </tr>\n    <tr>\n        <td>14</td>\n        <td>bg</td>\n        <td>Bangladesh</td>\n        <td>148460</td>\n        <td>130170</td>\n        <td>18290</td>\n        <td>168957745</td>\n        <td>1.6</td>\n        <td>21.14</td>\n        <td>5.61</td>\n        <td>0.46</td>\n        <td>2.33</td>\n    </tr>\n    <tr>\n        <td>143</td>\n        <td>rs</td>\n        <td>Russia</td>\n        <td>17098242</td>\n        <td>16377742</td>\n        <td>720500</td>\n        <td>142423773</td>\n        <td>0.04</td>\n        <td>11.6</td>\n        <td>13.69</td>\n        <td>1.69</td>\n        <td>1.96</td>\n    </tr>\n    <tr>\n        <td>85</td>\n        <td>ja</td>\n        <td>Japan</td>\n        <td>377915</td>\n        <td>364485</td>\n        <td>13430</td>\n        <td>126919659</td>\n        <td>0.16</td>\n        <td>7.93</td>\n        <td>9.51</td>\n        <td>0.0</td>\n        <td>1.75</td>\n    </tr>\n</table>"
     },
     "metadata": {},
     "execution_count": 18
    }
   ],
   "source": [
    "%%sql\n",
    "\n",
    "SELECT *,\n",
    "       ROUND((CAST(population AS FLOAT) / (SELECT SUM(population)\n",
    "                                             FROM facts\n",
    "                                            WHERE name <> 'World'\n",
    "                                              AND name <> 'European Union'\n",
    "                                          )*100), 2) AS 'world_pop_percent'\n",
    "  FROM facts\n",
    " WHERE name <> 'World'\n",
    "   AND name <> 'European Union'\n",
    " ORDER BY population DESC\n",
    " LIMIT 10;"
   ]
  },
  {
   "source": [
    "Most of the world's population are in China and India. There are more than 2.5 billion people, or almost 40% of the world's population, living in these 2 countries."
   ],
   "cell_type": "markdown",
   "metadata": {}
  },
  {
   "source": [
    "## Conclusion\n",
    "\n",
    "- Top 3 densely-populated countries are Macau, Monaco, and Singapore.\n",
    "- The country with the highest water-to-land ratio is the Britisn Indian Ocean Territory.\n",
    "- Top 3 countries with the highest number of population are China, India, and United States.\n",
    "\n",
    "However, the data for some countries are not complete. For example, there are no water area data available for Maldives and Seychelles. This affects the result of the analysis."
   ],
   "cell_type": "markdown",
   "metadata": {}
  }
 ]
}
